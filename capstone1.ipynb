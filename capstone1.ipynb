{
 "cells": [
  {
   "cell_type": "code",
   "execution_count": 2,
   "id": "5ccc75d3",
   "metadata": {},
   "outputs": [],
   "source": [
    "import numpy as np\n",
    "import pandas as pd\n",
    "from scipy import stats\n",
    "import matplotlib.pyplot as plt\n",
    "import pyspark as ps\n",
    "from tqdm import tqdm\n",
    "from pprint import pprint\n",
    "import datetime as dt\n",
    "import json\n",
    "from pyspark.sql.functions import col, array_contains\n",
    "from scipy import stats\n",
    "from scipy.stats import binom\n",
    "from scipy.stats import uniform"
   ]
  },
  {
   "cell_type": "code",
   "execution_count": 3,
   "id": "a08112c6",
   "metadata": {},
   "outputs": [
    {
     "data": {
      "text/html": [
       "<div>\n",
       "<style scoped>\n",
       "    .dataframe tbody tr th:only-of-type {\n",
       "        vertical-align: middle;\n",
       "    }\n",
       "\n",
       "    .dataframe tbody tr th {\n",
       "        vertical-align: top;\n",
       "    }\n",
       "\n",
       "    .dataframe thead th {\n",
       "        text-align: right;\n",
       "    }\n",
       "</style>\n",
       "<table border=\"1\" class=\"dataframe\">\n",
       "  <thead>\n",
       "    <tr style=\"text-align: right;\">\n",
       "      <th></th>\n",
       "      <th>data_id</th>\n",
       "      <th>iso</th>\n",
       "      <th>event_id_cnty</th>\n",
       "      <th>event_id_no_cnty</th>\n",
       "      <th>event_date</th>\n",
       "      <th>year</th>\n",
       "      <th>time_precision</th>\n",
       "      <th>event_type</th>\n",
       "      <th>sub_event_type</th>\n",
       "      <th>actor1</th>\n",
       "      <th>...</th>\n",
       "      <th>location</th>\n",
       "      <th>latitude</th>\n",
       "      <th>longitude</th>\n",
       "      <th>geo_precision</th>\n",
       "      <th>source</th>\n",
       "      <th>source_scale</th>\n",
       "      <th>notes</th>\n",
       "      <th>fatalities</th>\n",
       "      <th>timestamp</th>\n",
       "      <th>iso3</th>\n",
       "    </tr>\n",
       "  </thead>\n",
       "  <tbody>\n",
       "    <tr>\n",
       "      <th>0</th>\n",
       "      <td>8046848</td>\n",
       "      <td>170</td>\n",
       "      <td>COL7491</td>\n",
       "      <td>7491</td>\n",
       "      <td>28 May 2021</td>\n",
       "      <td>2021</td>\n",
       "      <td>1</td>\n",
       "      <td>Protests</td>\n",
       "      <td>Peaceful protest</td>\n",
       "      <td>Protesters (Colombia)</td>\n",
       "      <td>...</td>\n",
       "      <td>Bogota - Tunjuelito</td>\n",
       "      <td>4.5564</td>\n",
       "      <td>-74.1224</td>\n",
       "      <td>1</td>\n",
       "      <td>El Espectador</td>\n",
       "      <td>National</td>\n",
       "      <td>On 28 May 2021, in Bogota - Tunjuelito, Bogota...</td>\n",
       "      <td>0</td>\n",
       "      <td>1622481034</td>\n",
       "      <td>COL</td>\n",
       "    </tr>\n",
       "    <tr>\n",
       "      <th>1</th>\n",
       "      <td>8049920</td>\n",
       "      <td>104</td>\n",
       "      <td>MMR17625</td>\n",
       "      <td>17625</td>\n",
       "      <td>28 May 2021</td>\n",
       "      <td>2021</td>\n",
       "      <td>1</td>\n",
       "      <td>Protests</td>\n",
       "      <td>Peaceful protest</td>\n",
       "      <td>Protesters (Myanmar)</td>\n",
       "      <td>...</td>\n",
       "      <td>Mandalay</td>\n",
       "      <td>21.9747</td>\n",
       "      <td>96.0836</td>\n",
       "      <td>2</td>\n",
       "      <td>Myanmar Pressphoto Agency; Myanmar Labour News</td>\n",
       "      <td>National</td>\n",
       "      <td>On 28 May 2021, in Mandalay city (Mandalay Reg...</td>\n",
       "      <td>0</td>\n",
       "      <td>1622566819</td>\n",
       "      <td>MMR</td>\n",
       "    </tr>\n",
       "    <tr>\n",
       "      <th>2</th>\n",
       "      <td>8051712</td>\n",
       "      <td>380</td>\n",
       "      <td>ITA9293</td>\n",
       "      <td>9293</td>\n",
       "      <td>28 May 2021</td>\n",
       "      <td>2021</td>\n",
       "      <td>1</td>\n",
       "      <td>Protests</td>\n",
       "      <td>Peaceful protest</td>\n",
       "      <td>Protesters (Italy)</td>\n",
       "      <td>...</td>\n",
       "      <td>Novellara</td>\n",
       "      <td>44.8420</td>\n",
       "      <td>10.7275</td>\n",
       "      <td>1</td>\n",
       "      <td>TG COM</td>\n",
       "      <td>National</td>\n",
       "      <td>On 28 May 2021, in the evening, a few hundred ...</td>\n",
       "      <td>0</td>\n",
       "      <td>1622575879</td>\n",
       "      <td>ITA</td>\n",
       "    </tr>\n",
       "    <tr>\n",
       "      <th>3</th>\n",
       "      <td>8051713</td>\n",
       "      <td>826</td>\n",
       "      <td>GBR3017</td>\n",
       "      <td>3017</td>\n",
       "      <td>28 May 2021</td>\n",
       "      <td>2021</td>\n",
       "      <td>1</td>\n",
       "      <td>Protests</td>\n",
       "      <td>Peaceful protest</td>\n",
       "      <td>Protesters (United Kingdom)</td>\n",
       "      <td>...</td>\n",
       "      <td>Brunswick</td>\n",
       "      <td>50.8244</td>\n",
       "      <td>-0.1591</td>\n",
       "      <td>1</td>\n",
       "      <td>The Argus</td>\n",
       "      <td>National</td>\n",
       "      <td>On 28 May 2021, about 50 protesters gathered o...</td>\n",
       "      <td>0</td>\n",
       "      <td>1622575879</td>\n",
       "      <td>GBR</td>\n",
       "    </tr>\n",
       "    <tr>\n",
       "      <th>4</th>\n",
       "      <td>8049154</td>\n",
       "      <td>484</td>\n",
       "      <td>MEX46493</td>\n",
       "      <td>46493</td>\n",
       "      <td>28 May 2021</td>\n",
       "      <td>2021</td>\n",
       "      <td>1</td>\n",
       "      <td>Protests</td>\n",
       "      <td>Peaceful protest</td>\n",
       "      <td>Protesters (Mexico)</td>\n",
       "      <td>...</td>\n",
       "      <td>Tepic</td>\n",
       "      <td>21.5074</td>\n",
       "      <td>-104.8938</td>\n",
       "      <td>1</td>\n",
       "      <td>nncMX</td>\n",
       "      <td>Subnational</td>\n",
       "      <td>On 28 May 2021, in Tepic, Nayarit, young peopl...</td>\n",
       "      <td>0</td>\n",
       "      <td>1622495666</td>\n",
       "      <td>MEX</td>\n",
       "    </tr>\n",
       "    <tr>\n",
       "      <th>...</th>\n",
       "      <td>...</td>\n",
       "      <td>...</td>\n",
       "      <td>...</td>\n",
       "      <td>...</td>\n",
       "      <td>...</td>\n",
       "      <td>...</td>\n",
       "      <td>...</td>\n",
       "      <td>...</td>\n",
       "      <td>...</td>\n",
       "      <td>...</td>\n",
       "      <td>...</td>\n",
       "      <td>...</td>\n",
       "      <td>...</td>\n",
       "      <td>...</td>\n",
       "      <td>...</td>\n",
       "      <td>...</td>\n",
       "      <td>...</td>\n",
       "      <td>...</td>\n",
       "      <td>...</td>\n",
       "      <td>...</td>\n",
       "      <td>...</td>\n",
       "    </tr>\n",
       "    <tr>\n",
       "      <th>698405</th>\n",
       "      <td>5862398</td>\n",
       "      <td>760</td>\n",
       "      <td>SYR33425</td>\n",
       "      <td>33425</td>\n",
       "      <td>28 May 2018</td>\n",
       "      <td>2018</td>\n",
       "      <td>1</td>\n",
       "      <td>Battles</td>\n",
       "      <td>Armed clash</td>\n",
       "      <td>Military Forces of Syria (2000-)</td>\n",
       "      <td>...</td>\n",
       "      <td>Tadaf</td>\n",
       "      <td>36.3479</td>\n",
       "      <td>37.5294</td>\n",
       "      <td>1</td>\n",
       "      <td>SOHR</td>\n",
       "      <td>Other</td>\n",
       "      <td>Regime and loyalist militia forces clashed wit...</td>\n",
       "      <td>0</td>\n",
       "      <td>1567462273</td>\n",
       "      <td>SYR</td>\n",
       "    </tr>\n",
       "    <tr>\n",
       "      <th>698406</th>\n",
       "      <td>7372798</td>\n",
       "      <td>76</td>\n",
       "      <td>BRA28941</td>\n",
       "      <td>28941</td>\n",
       "      <td>28 May 2018</td>\n",
       "      <td>2018</td>\n",
       "      <td>1</td>\n",
       "      <td>Protests</td>\n",
       "      <td>Peaceful protest</td>\n",
       "      <td>Protesters (Brazil)</td>\n",
       "      <td>...</td>\n",
       "      <td>Maceio</td>\n",
       "      <td>-9.6658</td>\n",
       "      <td>-35.7353</td>\n",
       "      <td>1</td>\n",
       "      <td>Jornal do Commercio</td>\n",
       "      <td>National</td>\n",
       "      <td>On 28 May 2018, in Maceio, Alagoas, a group of...</td>\n",
       "      <td>0</td>\n",
       "      <td>1607555045</td>\n",
       "      <td>BRA</td>\n",
       "    </tr>\n",
       "    <tr>\n",
       "      <th>698407</th>\n",
       "      <td>6063358</td>\n",
       "      <td>356</td>\n",
       "      <td>IND31356</td>\n",
       "      <td>31356</td>\n",
       "      <td>28 May 2018</td>\n",
       "      <td>2018</td>\n",
       "      <td>1</td>\n",
       "      <td>Battles</td>\n",
       "      <td>Armed clash</td>\n",
       "      <td>CPI (Maoist): Communist Party of India (Maoist)</td>\n",
       "      <td>...</td>\n",
       "      <td>Daltonganj</td>\n",
       "      <td>24.0397</td>\n",
       "      <td>84.0658</td>\n",
       "      <td>2</td>\n",
       "      <td>Asian News International</td>\n",
       "      <td>National</td>\n",
       "      <td>3 Maoists were fatally shot in a battle with C...</td>\n",
       "      <td>3</td>\n",
       "      <td>1618534087</td>\n",
       "      <td>IND</td>\n",
       "    </tr>\n",
       "    <tr>\n",
       "      <th>698408</th>\n",
       "      <td>7442174</td>\n",
       "      <td>76</td>\n",
       "      <td>BRA29608</td>\n",
       "      <td>29608</td>\n",
       "      <td>28 May 2018</td>\n",
       "      <td>2018</td>\n",
       "      <td>1</td>\n",
       "      <td>Riots</td>\n",
       "      <td>Violent demonstration</td>\n",
       "      <td>Rioters (Brazil)</td>\n",
       "      <td>...</td>\n",
       "      <td>Varzea Paulista</td>\n",
       "      <td>-23.2113</td>\n",
       "      <td>-46.8283</td>\n",
       "      <td>1</td>\n",
       "      <td>G1</td>\n",
       "      <td>National</td>\n",
       "      <td>On 28 May 2018, in Varzea Paulista, Sao Paulo,...</td>\n",
       "      <td>0</td>\n",
       "      <td>1609973139</td>\n",
       "      <td>BRA</td>\n",
       "    </tr>\n",
       "    <tr>\n",
       "      <th>698409</th>\n",
       "      <td>7442175</td>\n",
       "      <td>76</td>\n",
       "      <td>BRA20065</td>\n",
       "      <td>20065</td>\n",
       "      <td>28 May 2018</td>\n",
       "      <td>2018</td>\n",
       "      <td>1</td>\n",
       "      <td>Riots</td>\n",
       "      <td>Violent demonstration</td>\n",
       "      <td>Rioters (Brazil)</td>\n",
       "      <td>...</td>\n",
       "      <td>Rio Branco</td>\n",
       "      <td>-9.9747</td>\n",
       "      <td>-67.8100</td>\n",
       "      <td>3</td>\n",
       "      <td>G1</td>\n",
       "      <td>National</td>\n",
       "      <td>On 28 May 2018, in the Acre state, truck drive...</td>\n",
       "      <td>0</td>\n",
       "      <td>1609973139</td>\n",
       "      <td>BRA</td>\n",
       "    </tr>\n",
       "  </tbody>\n",
       "</table>\n",
       "<p>698410 rows × 31 columns</p>\n",
       "</div>"
      ],
      "text/plain": [
       "        data_id  iso event_id_cnty  event_id_no_cnty   event_date  year  \\\n",
       "0       8046848  170       COL7491              7491  28 May 2021  2021   \n",
       "1       8049920  104      MMR17625             17625  28 May 2021  2021   \n",
       "2       8051712  380       ITA9293              9293  28 May 2021  2021   \n",
       "3       8051713  826       GBR3017              3017  28 May 2021  2021   \n",
       "4       8049154  484      MEX46493             46493  28 May 2021  2021   \n",
       "...         ...  ...           ...               ...          ...   ...   \n",
       "698405  5862398  760      SYR33425             33425  28 May 2018  2018   \n",
       "698406  7372798   76      BRA28941             28941  28 May 2018  2018   \n",
       "698407  6063358  356      IND31356             31356  28 May 2018  2018   \n",
       "698408  7442174   76      BRA29608             29608  28 May 2018  2018   \n",
       "698409  7442175   76      BRA20065             20065  28 May 2018  2018   \n",
       "\n",
       "        time_precision event_type         sub_event_type  \\\n",
       "0                    1   Protests       Peaceful protest   \n",
       "1                    1   Protests       Peaceful protest   \n",
       "2                    1   Protests       Peaceful protest   \n",
       "3                    1   Protests       Peaceful protest   \n",
       "4                    1   Protests       Peaceful protest   \n",
       "...                ...        ...                    ...   \n",
       "698405               1    Battles            Armed clash   \n",
       "698406               1   Protests       Peaceful protest   \n",
       "698407               1    Battles            Armed clash   \n",
       "698408               1      Riots  Violent demonstration   \n",
       "698409               1      Riots  Violent demonstration   \n",
       "\n",
       "                                                 actor1  ...  \\\n",
       "0                                 Protesters (Colombia)  ...   \n",
       "1                                  Protesters (Myanmar)  ...   \n",
       "2                                    Protesters (Italy)  ...   \n",
       "3                           Protesters (United Kingdom)  ...   \n",
       "4                                   Protesters (Mexico)  ...   \n",
       "...                                                 ...  ...   \n",
       "698405                 Military Forces of Syria (2000-)  ...   \n",
       "698406                              Protesters (Brazil)  ...   \n",
       "698407  CPI (Maoist): Communist Party of India (Maoist)  ...   \n",
       "698408                                 Rioters (Brazil)  ...   \n",
       "698409                                 Rioters (Brazil)  ...   \n",
       "\n",
       "                   location  latitude longitude geo_precision  \\\n",
       "0       Bogota - Tunjuelito    4.5564  -74.1224             1   \n",
       "1                  Mandalay   21.9747   96.0836             2   \n",
       "2                 Novellara   44.8420   10.7275             1   \n",
       "3                 Brunswick   50.8244   -0.1591             1   \n",
       "4                     Tepic   21.5074 -104.8938             1   \n",
       "...                     ...       ...       ...           ...   \n",
       "698405                Tadaf   36.3479   37.5294             1   \n",
       "698406               Maceio   -9.6658  -35.7353             1   \n",
       "698407           Daltonganj   24.0397   84.0658             2   \n",
       "698408      Varzea Paulista  -23.2113  -46.8283             1   \n",
       "698409           Rio Branco   -9.9747  -67.8100             3   \n",
       "\n",
       "                                                source  source_scale  \\\n",
       "0                                        El Espectador      National   \n",
       "1       Myanmar Pressphoto Agency; Myanmar Labour News      National   \n",
       "2                                               TG COM      National   \n",
       "3                                            The Argus      National   \n",
       "4                                                nncMX   Subnational   \n",
       "...                                                ...           ...   \n",
       "698405                                            SOHR         Other   \n",
       "698406                             Jornal do Commercio      National   \n",
       "698407                        Asian News International      National   \n",
       "698408                                              G1      National   \n",
       "698409                                              G1      National   \n",
       "\n",
       "                                                    notes fatalities  \\\n",
       "0       On 28 May 2021, in Bogota - Tunjuelito, Bogota...          0   \n",
       "1       On 28 May 2021, in Mandalay city (Mandalay Reg...          0   \n",
       "2       On 28 May 2021, in the evening, a few hundred ...          0   \n",
       "3       On 28 May 2021, about 50 protesters gathered o...          0   \n",
       "4       On 28 May 2021, in Tepic, Nayarit, young peopl...          0   \n",
       "...                                                   ...        ...   \n",
       "698405  Regime and loyalist militia forces clashed wit...          0   \n",
       "698406  On 28 May 2018, in Maceio, Alagoas, a group of...          0   \n",
       "698407  3 Maoists were fatally shot in a battle with C...          3   \n",
       "698408  On 28 May 2018, in Varzea Paulista, Sao Paulo,...          0   \n",
       "698409  On 28 May 2018, in the Acre state, truck drive...          0   \n",
       "\n",
       "         timestamp iso3  \n",
       "0       1622481034  COL  \n",
       "1       1622566819  MMR  \n",
       "2       1622575879  ITA  \n",
       "3       1622575879  GBR  \n",
       "4       1622495666  MEX  \n",
       "...            ...  ...  \n",
       "698405  1567462273  SYR  \n",
       "698406  1607555045  BRA  \n",
       "698407  1618534087  IND  \n",
       "698408  1609973139  BRA  \n",
       "698409  1609973139  BRA  \n",
       "\n",
       "[698410 rows x 31 columns]"
      ]
     },
     "execution_count": 3,
     "metadata": {},
     "output_type": "execute_result"
    }
   ],
   "source": [
    "df = pd.read_csv('2018-05-28-2021-06-07.csv')\n",
    "df"
   ]
  },
  {
   "cell_type": "code",
   "execution_count": 4,
   "id": "84fc1a6c",
   "metadata": {},
   "outputs": [
    {
     "data": {
      "text/plain": [
       "('battle scale',\n",
       " 'protest fatality',\n",
       " 'terror attack ratio',\n",
       " 'condition of violent demonstration',\n",
       " 'Armed Clash',\n",
       " 'Gang fire')"
      ]
     },
     "execution_count": 4,
     "metadata": {},
     "output_type": "execute_result"
    }
   ],
   "source": [
    "\"battle scale\",\"protest fatality\",\"terror attack ratio\",\"condition of violent demonstration\",\"Armed Clash\",\"Gang fire\""
   ]
  },
  {
   "cell_type": "code",
   "execution_count": 5,
   "id": "7aa32bfe",
   "metadata": {},
   "outputs": [
    {
     "data": {
      "text/html": [
       "<div>\n",
       "<style scoped>\n",
       "    .dataframe tbody tr th:only-of-type {\n",
       "        vertical-align: middle;\n",
       "    }\n",
       "\n",
       "    .dataframe tbody tr th {\n",
       "        vertical-align: top;\n",
       "    }\n",
       "\n",
       "    .dataframe thead th {\n",
       "        text-align: right;\n",
       "    }\n",
       "</style>\n",
       "<table border=\"1\" class=\"dataframe\">\n",
       "  <thead>\n",
       "    <tr style=\"text-align: right;\">\n",
       "      <th></th>\n",
       "      <th>data_id</th>\n",
       "      <th>iso</th>\n",
       "      <th>event_id_cnty</th>\n",
       "      <th>event_id_no_cnty</th>\n",
       "      <th>event_date</th>\n",
       "      <th>year</th>\n",
       "      <th>time_precision</th>\n",
       "      <th>event_type</th>\n",
       "      <th>actor1</th>\n",
       "      <th>assoc_actor_1</th>\n",
       "      <th>...</th>\n",
       "      <th>location</th>\n",
       "      <th>latitude</th>\n",
       "      <th>longitude</th>\n",
       "      <th>geo_precision</th>\n",
       "      <th>source</th>\n",
       "      <th>source_scale</th>\n",
       "      <th>notes</th>\n",
       "      <th>fatalities</th>\n",
       "      <th>timestamp</th>\n",
       "      <th>iso3</th>\n",
       "    </tr>\n",
       "    <tr>\n",
       "      <th>sub_event_type</th>\n",
       "      <th></th>\n",
       "      <th></th>\n",
       "      <th></th>\n",
       "      <th></th>\n",
       "      <th></th>\n",
       "      <th></th>\n",
       "      <th></th>\n",
       "      <th></th>\n",
       "      <th></th>\n",
       "      <th></th>\n",
       "      <th></th>\n",
       "      <th></th>\n",
       "      <th></th>\n",
       "      <th></th>\n",
       "      <th></th>\n",
       "      <th></th>\n",
       "      <th></th>\n",
       "      <th></th>\n",
       "      <th></th>\n",
       "      <th></th>\n",
       "      <th></th>\n",
       "    </tr>\n",
       "  </thead>\n",
       "  <tbody>\n",
       "    <tr>\n",
       "      <th>Abduction/forced disappearance</th>\n",
       "      <td>7058</td>\n",
       "      <td>7058</td>\n",
       "      <td>7058</td>\n",
       "      <td>7058</td>\n",
       "      <td>7058</td>\n",
       "      <td>7058</td>\n",
       "      <td>7058</td>\n",
       "      <td>7058</td>\n",
       "      <td>7058</td>\n",
       "      <td>623</td>\n",
       "      <td>...</td>\n",
       "      <td>7058</td>\n",
       "      <td>7058</td>\n",
       "      <td>7058</td>\n",
       "      <td>7058</td>\n",
       "      <td>7058</td>\n",
       "      <td>7058</td>\n",
       "      <td>7058</td>\n",
       "      <td>7058</td>\n",
       "      <td>7058</td>\n",
       "      <td>7058</td>\n",
       "    </tr>\n",
       "    <tr>\n",
       "      <th>Agreement</th>\n",
       "      <td>781</td>\n",
       "      <td>781</td>\n",
       "      <td>781</td>\n",
       "      <td>781</td>\n",
       "      <td>781</td>\n",
       "      <td>781</td>\n",
       "      <td>781</td>\n",
       "      <td>781</td>\n",
       "      <td>781</td>\n",
       "      <td>109</td>\n",
       "      <td>...</td>\n",
       "      <td>781</td>\n",
       "      <td>781</td>\n",
       "      <td>781</td>\n",
       "      <td>781</td>\n",
       "      <td>781</td>\n",
       "      <td>781</td>\n",
       "      <td>781</td>\n",
       "      <td>781</td>\n",
       "      <td>781</td>\n",
       "      <td>781</td>\n",
       "    </tr>\n",
       "    <tr>\n",
       "      <th>Air/drone strike</th>\n",
       "      <td>22217</td>\n",
       "      <td>22217</td>\n",
       "      <td>22217</td>\n",
       "      <td>22217</td>\n",
       "      <td>22217</td>\n",
       "      <td>22217</td>\n",
       "      <td>22217</td>\n",
       "      <td>22217</td>\n",
       "      <td>22217</td>\n",
       "      <td>3565</td>\n",
       "      <td>...</td>\n",
       "      <td>22217</td>\n",
       "      <td>22217</td>\n",
       "      <td>22217</td>\n",
       "      <td>22217</td>\n",
       "      <td>22217</td>\n",
       "      <td>22217</td>\n",
       "      <td>22217</td>\n",
       "      <td>22217</td>\n",
       "      <td>22217</td>\n",
       "      <td>22217</td>\n",
       "    </tr>\n",
       "    <tr>\n",
       "      <th>Armed clash</th>\n",
       "      <td>121343</td>\n",
       "      <td>121343</td>\n",
       "      <td>121343</td>\n",
       "      <td>121343</td>\n",
       "      <td>121343</td>\n",
       "      <td>121343</td>\n",
       "      <td>121343</td>\n",
       "      <td>121343</td>\n",
       "      <td>121343</td>\n",
       "      <td>11958</td>\n",
       "      <td>...</td>\n",
       "      <td>121343</td>\n",
       "      <td>121343</td>\n",
       "      <td>121343</td>\n",
       "      <td>121343</td>\n",
       "      <td>121343</td>\n",
       "      <td>121343</td>\n",
       "      <td>121343</td>\n",
       "      <td>121343</td>\n",
       "      <td>121343</td>\n",
       "      <td>121343</td>\n",
       "    </tr>\n",
       "    <tr>\n",
       "      <th>Arrests</th>\n",
       "      <td>4038</td>\n",
       "      <td>4038</td>\n",
       "      <td>4038</td>\n",
       "      <td>4038</td>\n",
       "      <td>4038</td>\n",
       "      <td>4038</td>\n",
       "      <td>4038</td>\n",
       "      <td>4038</td>\n",
       "      <td>4038</td>\n",
       "      <td>706</td>\n",
       "      <td>...</td>\n",
       "      <td>4038</td>\n",
       "      <td>4038</td>\n",
       "      <td>4038</td>\n",
       "      <td>4038</td>\n",
       "      <td>4038</td>\n",
       "      <td>4038</td>\n",
       "      <td>4038</td>\n",
       "      <td>4038</td>\n",
       "      <td>4038</td>\n",
       "      <td>4038</td>\n",
       "    </tr>\n",
       "    <tr>\n",
       "      <th>Attack</th>\n",
       "      <td>65565</td>\n",
       "      <td>65565</td>\n",
       "      <td>65565</td>\n",
       "      <td>65565</td>\n",
       "      <td>65565</td>\n",
       "      <td>65565</td>\n",
       "      <td>65565</td>\n",
       "      <td>65565</td>\n",
       "      <td>65565</td>\n",
       "      <td>3496</td>\n",
       "      <td>...</td>\n",
       "      <td>65565</td>\n",
       "      <td>65565</td>\n",
       "      <td>65565</td>\n",
       "      <td>65565</td>\n",
       "      <td>65565</td>\n",
       "      <td>65565</td>\n",
       "      <td>65565</td>\n",
       "      <td>65565</td>\n",
       "      <td>65565</td>\n",
       "      <td>65565</td>\n",
       "    </tr>\n",
       "    <tr>\n",
       "      <th>Change to group/activity</th>\n",
       "      <td>7491</td>\n",
       "      <td>7491</td>\n",
       "      <td>7491</td>\n",
       "      <td>7491</td>\n",
       "      <td>7491</td>\n",
       "      <td>7491</td>\n",
       "      <td>7491</td>\n",
       "      <td>7491</td>\n",
       "      <td>7491</td>\n",
       "      <td>1699</td>\n",
       "      <td>...</td>\n",
       "      <td>7491</td>\n",
       "      <td>7491</td>\n",
       "      <td>7491</td>\n",
       "      <td>7491</td>\n",
       "      <td>7491</td>\n",
       "      <td>7491</td>\n",
       "      <td>7491</td>\n",
       "      <td>7491</td>\n",
       "      <td>7491</td>\n",
       "      <td>7491</td>\n",
       "    </tr>\n",
       "    <tr>\n",
       "      <th>Chemical weapon</th>\n",
       "      <td>5</td>\n",
       "      <td>5</td>\n",
       "      <td>5</td>\n",
       "      <td>5</td>\n",
       "      <td>5</td>\n",
       "      <td>5</td>\n",
       "      <td>5</td>\n",
       "      <td>5</td>\n",
       "      <td>5</td>\n",
       "      <td>1</td>\n",
       "      <td>...</td>\n",
       "      <td>5</td>\n",
       "      <td>5</td>\n",
       "      <td>5</td>\n",
       "      <td>5</td>\n",
       "      <td>5</td>\n",
       "      <td>5</td>\n",
       "      <td>5</td>\n",
       "      <td>5</td>\n",
       "      <td>5</td>\n",
       "      <td>5</td>\n",
       "    </tr>\n",
       "    <tr>\n",
       "      <th>Disrupted weapons use</th>\n",
       "      <td>3931</td>\n",
       "      <td>3931</td>\n",
       "      <td>3931</td>\n",
       "      <td>3931</td>\n",
       "      <td>3931</td>\n",
       "      <td>3931</td>\n",
       "      <td>3931</td>\n",
       "      <td>3931</td>\n",
       "      <td>3931</td>\n",
       "      <td>473</td>\n",
       "      <td>...</td>\n",
       "      <td>3931</td>\n",
       "      <td>3931</td>\n",
       "      <td>3931</td>\n",
       "      <td>3931</td>\n",
       "      <td>3931</td>\n",
       "      <td>3931</td>\n",
       "      <td>3931</td>\n",
       "      <td>3931</td>\n",
       "      <td>3931</td>\n",
       "      <td>3931</td>\n",
       "    </tr>\n",
       "    <tr>\n",
       "      <th>Excessive force against protesters</th>\n",
       "      <td>1603</td>\n",
       "      <td>1603</td>\n",
       "      <td>1603</td>\n",
       "      <td>1603</td>\n",
       "      <td>1603</td>\n",
       "      <td>1603</td>\n",
       "      <td>1603</td>\n",
       "      <td>1603</td>\n",
       "      <td>1603</td>\n",
       "      <td>729</td>\n",
       "      <td>...</td>\n",
       "      <td>1603</td>\n",
       "      <td>1603</td>\n",
       "      <td>1603</td>\n",
       "      <td>1603</td>\n",
       "      <td>1603</td>\n",
       "      <td>1603</td>\n",
       "      <td>1603</td>\n",
       "      <td>1603</td>\n",
       "      <td>1603</td>\n",
       "      <td>1603</td>\n",
       "    </tr>\n",
       "    <tr>\n",
       "      <th>Government regains territory</th>\n",
       "      <td>3168</td>\n",
       "      <td>3168</td>\n",
       "      <td>3168</td>\n",
       "      <td>3168</td>\n",
       "      <td>3168</td>\n",
       "      <td>3168</td>\n",
       "      <td>3168</td>\n",
       "      <td>3168</td>\n",
       "      <td>3168</td>\n",
       "      <td>1320</td>\n",
       "      <td>...</td>\n",
       "      <td>3168</td>\n",
       "      <td>3168</td>\n",
       "      <td>3168</td>\n",
       "      <td>3168</td>\n",
       "      <td>3168</td>\n",
       "      <td>3168</td>\n",
       "      <td>3168</td>\n",
       "      <td>3168</td>\n",
       "      <td>3168</td>\n",
       "      <td>3168</td>\n",
       "    </tr>\n",
       "    <tr>\n",
       "      <th>Grenade</th>\n",
       "      <td>1529</td>\n",
       "      <td>1529</td>\n",
       "      <td>1529</td>\n",
       "      <td>1529</td>\n",
       "      <td>1529</td>\n",
       "      <td>1529</td>\n",
       "      <td>1529</td>\n",
       "      <td>1529</td>\n",
       "      <td>1529</td>\n",
       "      <td>84</td>\n",
       "      <td>...</td>\n",
       "      <td>1529</td>\n",
       "      <td>1529</td>\n",
       "      <td>1529</td>\n",
       "      <td>1529</td>\n",
       "      <td>1529</td>\n",
       "      <td>1529</td>\n",
       "      <td>1529</td>\n",
       "      <td>1529</td>\n",
       "      <td>1529</td>\n",
       "      <td>1529</td>\n",
       "    </tr>\n",
       "    <tr>\n",
       "      <th>Headquarters or base established</th>\n",
       "      <td>297</td>\n",
       "      <td>297</td>\n",
       "      <td>297</td>\n",
       "      <td>297</td>\n",
       "      <td>297</td>\n",
       "      <td>297</td>\n",
       "      <td>297</td>\n",
       "      <td>297</td>\n",
       "      <td>297</td>\n",
       "      <td>79</td>\n",
       "      <td>...</td>\n",
       "      <td>297</td>\n",
       "      <td>297</td>\n",
       "      <td>297</td>\n",
       "      <td>297</td>\n",
       "      <td>297</td>\n",
       "      <td>297</td>\n",
       "      <td>297</td>\n",
       "      <td>297</td>\n",
       "      <td>297</td>\n",
       "      <td>297</td>\n",
       "    </tr>\n",
       "    <tr>\n",
       "      <th>Looting/property destruction</th>\n",
       "      <td>11678</td>\n",
       "      <td>11678</td>\n",
       "      <td>11678</td>\n",
       "      <td>11678</td>\n",
       "      <td>11678</td>\n",
       "      <td>11678</td>\n",
       "      <td>11678</td>\n",
       "      <td>11678</td>\n",
       "      <td>11678</td>\n",
       "      <td>1449</td>\n",
       "      <td>...</td>\n",
       "      <td>11678</td>\n",
       "      <td>11678</td>\n",
       "      <td>11678</td>\n",
       "      <td>11678</td>\n",
       "      <td>11678</td>\n",
       "      <td>11678</td>\n",
       "      <td>11678</td>\n",
       "      <td>11678</td>\n",
       "      <td>11678</td>\n",
       "      <td>11678</td>\n",
       "    </tr>\n",
       "    <tr>\n",
       "      <th>Mob violence</th>\n",
       "      <td>20468</td>\n",
       "      <td>20468</td>\n",
       "      <td>20468</td>\n",
       "      <td>20468</td>\n",
       "      <td>20468</td>\n",
       "      <td>20468</td>\n",
       "      <td>20468</td>\n",
       "      <td>20468</td>\n",
       "      <td>20468</td>\n",
       "      <td>12848</td>\n",
       "      <td>...</td>\n",
       "      <td>20468</td>\n",
       "      <td>20468</td>\n",
       "      <td>20468</td>\n",
       "      <td>20468</td>\n",
       "      <td>20468</td>\n",
       "      <td>20468</td>\n",
       "      <td>20468</td>\n",
       "      <td>20468</td>\n",
       "      <td>20468</td>\n",
       "      <td>20468</td>\n",
       "    </tr>\n",
       "    <tr>\n",
       "      <th>Non-state actor overtakes territory</th>\n",
       "      <td>1234</td>\n",
       "      <td>1234</td>\n",
       "      <td>1234</td>\n",
       "      <td>1234</td>\n",
       "      <td>1234</td>\n",
       "      <td>1234</td>\n",
       "      <td>1234</td>\n",
       "      <td>1234</td>\n",
       "      <td>1234</td>\n",
       "      <td>403</td>\n",
       "      <td>...</td>\n",
       "      <td>1234</td>\n",
       "      <td>1234</td>\n",
       "      <td>1234</td>\n",
       "      <td>1234</td>\n",
       "      <td>1234</td>\n",
       "      <td>1234</td>\n",
       "      <td>1234</td>\n",
       "      <td>1234</td>\n",
       "      <td>1234</td>\n",
       "      <td>1234</td>\n",
       "    </tr>\n",
       "    <tr>\n",
       "      <th>Non-violent transfer of territory</th>\n",
       "      <td>529</td>\n",
       "      <td>529</td>\n",
       "      <td>529</td>\n",
       "      <td>529</td>\n",
       "      <td>529</td>\n",
       "      <td>529</td>\n",
       "      <td>529</td>\n",
       "      <td>529</td>\n",
       "      <td>529</td>\n",
       "      <td>147</td>\n",
       "      <td>...</td>\n",
       "      <td>529</td>\n",
       "      <td>529</td>\n",
       "      <td>529</td>\n",
       "      <td>529</td>\n",
       "      <td>529</td>\n",
       "      <td>529</td>\n",
       "      <td>529</td>\n",
       "      <td>529</td>\n",
       "      <td>529</td>\n",
       "      <td>529</td>\n",
       "    </tr>\n",
       "    <tr>\n",
       "      <th>Other</th>\n",
       "      <td>3686</td>\n",
       "      <td>3686</td>\n",
       "      <td>3686</td>\n",
       "      <td>3686</td>\n",
       "      <td>3686</td>\n",
       "      <td>3686</td>\n",
       "      <td>3686</td>\n",
       "      <td>3686</td>\n",
       "      <td>3686</td>\n",
       "      <td>1302</td>\n",
       "      <td>...</td>\n",
       "      <td>3686</td>\n",
       "      <td>3686</td>\n",
       "      <td>3686</td>\n",
       "      <td>3686</td>\n",
       "      <td>3686</td>\n",
       "      <td>3686</td>\n",
       "      <td>3686</td>\n",
       "      <td>3686</td>\n",
       "      <td>3686</td>\n",
       "      <td>3686</td>\n",
       "    </tr>\n",
       "    <tr>\n",
       "      <th>Peaceful protest</th>\n",
       "      <td>316121</td>\n",
       "      <td>316121</td>\n",
       "      <td>316121</td>\n",
       "      <td>316121</td>\n",
       "      <td>316121</td>\n",
       "      <td>316121</td>\n",
       "      <td>316121</td>\n",
       "      <td>316121</td>\n",
       "      <td>316121</td>\n",
       "      <td>222179</td>\n",
       "      <td>...</td>\n",
       "      <td>316121</td>\n",
       "      <td>316121</td>\n",
       "      <td>316121</td>\n",
       "      <td>316121</td>\n",
       "      <td>316121</td>\n",
       "      <td>316121</td>\n",
       "      <td>316121</td>\n",
       "      <td>316121</td>\n",
       "      <td>316121</td>\n",
       "      <td>316121</td>\n",
       "    </tr>\n",
       "    <tr>\n",
       "      <th>Protest with intervention</th>\n",
       "      <td>15682</td>\n",
       "      <td>15682</td>\n",
       "      <td>15682</td>\n",
       "      <td>15682</td>\n",
       "      <td>15682</td>\n",
       "      <td>15682</td>\n",
       "      <td>15682</td>\n",
       "      <td>15682</td>\n",
       "      <td>15682</td>\n",
       "      <td>10689</td>\n",
       "      <td>...</td>\n",
       "      <td>15682</td>\n",
       "      <td>15682</td>\n",
       "      <td>15682</td>\n",
       "      <td>15682</td>\n",
       "      <td>15682</td>\n",
       "      <td>15682</td>\n",
       "      <td>15682</td>\n",
       "      <td>15682</td>\n",
       "      <td>15682</td>\n",
       "      <td>15682</td>\n",
       "    </tr>\n",
       "    <tr>\n",
       "      <th>Remote explosive/landmine/IED</th>\n",
       "      <td>16246</td>\n",
       "      <td>16246</td>\n",
       "      <td>16246</td>\n",
       "      <td>16246</td>\n",
       "      <td>16246</td>\n",
       "      <td>16246</td>\n",
       "      <td>16246</td>\n",
       "      <td>16246</td>\n",
       "      <td>16246</td>\n",
       "      <td>234</td>\n",
       "      <td>...</td>\n",
       "      <td>16246</td>\n",
       "      <td>16246</td>\n",
       "      <td>16246</td>\n",
       "      <td>16246</td>\n",
       "      <td>16246</td>\n",
       "      <td>16246</td>\n",
       "      <td>16246</td>\n",
       "      <td>16246</td>\n",
       "      <td>16246</td>\n",
       "      <td>16246</td>\n",
       "    </tr>\n",
       "    <tr>\n",
       "      <th>Sexual violence</th>\n",
       "      <td>1081</td>\n",
       "      <td>1081</td>\n",
       "      <td>1081</td>\n",
       "      <td>1081</td>\n",
       "      <td>1081</td>\n",
       "      <td>1081</td>\n",
       "      <td>1081</td>\n",
       "      <td>1081</td>\n",
       "      <td>1081</td>\n",
       "      <td>155</td>\n",
       "      <td>...</td>\n",
       "      <td>1081</td>\n",
       "      <td>1081</td>\n",
       "      <td>1081</td>\n",
       "      <td>1081</td>\n",
       "      <td>1081</td>\n",
       "      <td>1081</td>\n",
       "      <td>1081</td>\n",
       "      <td>1081</td>\n",
       "      <td>1081</td>\n",
       "      <td>1081</td>\n",
       "    </tr>\n",
       "    <tr>\n",
       "      <th>Shelling/artillery/missile attack</th>\n",
       "      <td>47531</td>\n",
       "      <td>47531</td>\n",
       "      <td>47531</td>\n",
       "      <td>47531</td>\n",
       "      <td>47531</td>\n",
       "      <td>47531</td>\n",
       "      <td>47531</td>\n",
       "      <td>47531</td>\n",
       "      <td>47531</td>\n",
       "      <td>3585</td>\n",
       "      <td>...</td>\n",
       "      <td>47531</td>\n",
       "      <td>47531</td>\n",
       "      <td>47531</td>\n",
       "      <td>47531</td>\n",
       "      <td>47531</td>\n",
       "      <td>47531</td>\n",
       "      <td>47531</td>\n",
       "      <td>47531</td>\n",
       "      <td>47531</td>\n",
       "      <td>47531</td>\n",
       "    </tr>\n",
       "    <tr>\n",
       "      <th>Suicide bomb</th>\n",
       "      <td>340</td>\n",
       "      <td>340</td>\n",
       "      <td>340</td>\n",
       "      <td>340</td>\n",
       "      <td>340</td>\n",
       "      <td>340</td>\n",
       "      <td>340</td>\n",
       "      <td>340</td>\n",
       "      <td>340</td>\n",
       "      <td>22</td>\n",
       "      <td>...</td>\n",
       "      <td>340</td>\n",
       "      <td>340</td>\n",
       "      <td>340</td>\n",
       "      <td>340</td>\n",
       "      <td>340</td>\n",
       "      <td>340</td>\n",
       "      <td>340</td>\n",
       "      <td>340</td>\n",
       "      <td>340</td>\n",
       "      <td>340</td>\n",
       "    </tr>\n",
       "    <tr>\n",
       "      <th>Violent demonstration</th>\n",
       "      <td>24788</td>\n",
       "      <td>24788</td>\n",
       "      <td>24788</td>\n",
       "      <td>24788</td>\n",
       "      <td>24788</td>\n",
       "      <td>24788</td>\n",
       "      <td>24788</td>\n",
       "      <td>24788</td>\n",
       "      <td>24788</td>\n",
       "      <td>12220</td>\n",
       "      <td>...</td>\n",
       "      <td>24788</td>\n",
       "      <td>24788</td>\n",
       "      <td>24788</td>\n",
       "      <td>24788</td>\n",
       "      <td>24788</td>\n",
       "      <td>24788</td>\n",
       "      <td>24788</td>\n",
       "      <td>24788</td>\n",
       "      <td>24788</td>\n",
       "      <td>24788</td>\n",
       "    </tr>\n",
       "  </tbody>\n",
       "</table>\n",
       "<p>25 rows × 30 columns</p>\n",
       "</div>"
      ],
      "text/plain": [
       "                                     data_id     iso  event_id_cnty  \\\n",
       "sub_event_type                                                        \n",
       "Abduction/forced disappearance          7058    7058           7058   \n",
       "Agreement                                781     781            781   \n",
       "Air/drone strike                       22217   22217          22217   \n",
       "Armed clash                           121343  121343         121343   \n",
       "Arrests                                 4038    4038           4038   \n",
       "Attack                                 65565   65565          65565   \n",
       "Change to group/activity                7491    7491           7491   \n",
       "Chemical weapon                            5       5              5   \n",
       "Disrupted weapons use                   3931    3931           3931   \n",
       "Excessive force against protesters      1603    1603           1603   \n",
       "Government regains territory            3168    3168           3168   \n",
       "Grenade                                 1529    1529           1529   \n",
       "Headquarters or base established         297     297            297   \n",
       "Looting/property destruction           11678   11678          11678   \n",
       "Mob violence                           20468   20468          20468   \n",
       "Non-state actor overtakes territory     1234    1234           1234   \n",
       "Non-violent transfer of territory        529     529            529   \n",
       "Other                                   3686    3686           3686   \n",
       "Peaceful protest                      316121  316121         316121   \n",
       "Protest with intervention              15682   15682          15682   \n",
       "Remote explosive/landmine/IED          16246   16246          16246   \n",
       "Sexual violence                         1081    1081           1081   \n",
       "Shelling/artillery/missile attack      47531   47531          47531   \n",
       "Suicide bomb                             340     340            340   \n",
       "Violent demonstration                  24788   24788          24788   \n",
       "\n",
       "                                     event_id_no_cnty  event_date    year  \\\n",
       "sub_event_type                                                              \n",
       "Abduction/forced disappearance                   7058        7058    7058   \n",
       "Agreement                                         781         781     781   \n",
       "Air/drone strike                                22217       22217   22217   \n",
       "Armed clash                                    121343      121343  121343   \n",
       "Arrests                                          4038        4038    4038   \n",
       "Attack                                          65565       65565   65565   \n",
       "Change to group/activity                         7491        7491    7491   \n",
       "Chemical weapon                                     5           5       5   \n",
       "Disrupted weapons use                            3931        3931    3931   \n",
       "Excessive force against protesters               1603        1603    1603   \n",
       "Government regains territory                     3168        3168    3168   \n",
       "Grenade                                          1529        1529    1529   \n",
       "Headquarters or base established                  297         297     297   \n",
       "Looting/property destruction                    11678       11678   11678   \n",
       "Mob violence                                    20468       20468   20468   \n",
       "Non-state actor overtakes territory              1234        1234    1234   \n",
       "Non-violent transfer of territory                 529         529     529   \n",
       "Other                                            3686        3686    3686   \n",
       "Peaceful protest                               316121      316121  316121   \n",
       "Protest with intervention                       15682       15682   15682   \n",
       "Remote explosive/landmine/IED                   16246       16246   16246   \n",
       "Sexual violence                                  1081        1081    1081   \n",
       "Shelling/artillery/missile attack               47531       47531   47531   \n",
       "Suicide bomb                                      340         340     340   \n",
       "Violent demonstration                           24788       24788   24788   \n",
       "\n",
       "                                     time_precision  event_type  actor1  \\\n",
       "sub_event_type                                                            \n",
       "Abduction/forced disappearance                 7058        7058    7058   \n",
       "Agreement                                       781         781     781   \n",
       "Air/drone strike                              22217       22217   22217   \n",
       "Armed clash                                  121343      121343  121343   \n",
       "Arrests                                        4038        4038    4038   \n",
       "Attack                                        65565       65565   65565   \n",
       "Change to group/activity                       7491        7491    7491   \n",
       "Chemical weapon                                   5           5       5   \n",
       "Disrupted weapons use                          3931        3931    3931   \n",
       "Excessive force against protesters             1603        1603    1603   \n",
       "Government regains territory                   3168        3168    3168   \n",
       "Grenade                                        1529        1529    1529   \n",
       "Headquarters or base established                297         297     297   \n",
       "Looting/property destruction                  11678       11678   11678   \n",
       "Mob violence                                  20468       20468   20468   \n",
       "Non-state actor overtakes territory            1234        1234    1234   \n",
       "Non-violent transfer of territory               529         529     529   \n",
       "Other                                          3686        3686    3686   \n",
       "Peaceful protest                             316121      316121  316121   \n",
       "Protest with intervention                     15682       15682   15682   \n",
       "Remote explosive/landmine/IED                 16246       16246   16246   \n",
       "Sexual violence                                1081        1081    1081   \n",
       "Shelling/artillery/missile attack             47531       47531   47531   \n",
       "Suicide bomb                                    340         340     340   \n",
       "Violent demonstration                         24788       24788   24788   \n",
       "\n",
       "                                     assoc_actor_1  ...  location  latitude  \\\n",
       "sub_event_type                                      ...                       \n",
       "Abduction/forced disappearance                 623  ...      7058      7058   \n",
       "Agreement                                      109  ...       781       781   \n",
       "Air/drone strike                              3565  ...     22217     22217   \n",
       "Armed clash                                  11958  ...    121343    121343   \n",
       "Arrests                                        706  ...      4038      4038   \n",
       "Attack                                        3496  ...     65565     65565   \n",
       "Change to group/activity                      1699  ...      7491      7491   \n",
       "Chemical weapon                                  1  ...         5         5   \n",
       "Disrupted weapons use                          473  ...      3931      3931   \n",
       "Excessive force against protesters             729  ...      1603      1603   \n",
       "Government regains territory                  1320  ...      3168      3168   \n",
       "Grenade                                         84  ...      1529      1529   \n",
       "Headquarters or base established                79  ...       297       297   \n",
       "Looting/property destruction                  1449  ...     11678     11678   \n",
       "Mob violence                                 12848  ...     20468     20468   \n",
       "Non-state actor overtakes territory            403  ...      1234      1234   \n",
       "Non-violent transfer of territory              147  ...       529       529   \n",
       "Other                                         1302  ...      3686      3686   \n",
       "Peaceful protest                            222179  ...    316121    316121   \n",
       "Protest with intervention                    10689  ...     15682     15682   \n",
       "Remote explosive/landmine/IED                  234  ...     16246     16246   \n",
       "Sexual violence                                155  ...      1081      1081   \n",
       "Shelling/artillery/missile attack             3585  ...     47531     47531   \n",
       "Suicide bomb                                    22  ...       340       340   \n",
       "Violent demonstration                        12220  ...     24788     24788   \n",
       "\n",
       "                                     longitude  geo_precision  source  \\\n",
       "sub_event_type                                                          \n",
       "Abduction/forced disappearance            7058           7058    7058   \n",
       "Agreement                                  781            781     781   \n",
       "Air/drone strike                         22217          22217   22217   \n",
       "Armed clash                             121343         121343  121343   \n",
       "Arrests                                   4038           4038    4038   \n",
       "Attack                                   65565          65565   65565   \n",
       "Change to group/activity                  7491           7491    7491   \n",
       "Chemical weapon                              5              5       5   \n",
       "Disrupted weapons use                     3931           3931    3931   \n",
       "Excessive force against protesters        1603           1603    1603   \n",
       "Government regains territory              3168           3168    3168   \n",
       "Grenade                                   1529           1529    1529   \n",
       "Headquarters or base established           297            297     297   \n",
       "Looting/property destruction             11678          11678   11678   \n",
       "Mob violence                             20468          20468   20468   \n",
       "Non-state actor overtakes territory       1234           1234    1234   \n",
       "Non-violent transfer of territory          529            529     529   \n",
       "Other                                     3686           3686    3686   \n",
       "Peaceful protest                        316121         316121  316121   \n",
       "Protest with intervention                15682          15682   15682   \n",
       "Remote explosive/landmine/IED            16246          16246   16246   \n",
       "Sexual violence                           1081           1081    1081   \n",
       "Shelling/artillery/missile attack        47531          47531   47531   \n",
       "Suicide bomb                               340            340     340   \n",
       "Violent demonstration                    24788          24788   24788   \n",
       "\n",
       "                                     source_scale   notes  fatalities  \\\n",
       "sub_event_type                                                          \n",
       "Abduction/forced disappearance               7058    7058        7058   \n",
       "Agreement                                     781     781         781   \n",
       "Air/drone strike                            22217   22217       22217   \n",
       "Armed clash                                121343  121343      121343   \n",
       "Arrests                                      4038    4038        4038   \n",
       "Attack                                      65565   65565       65565   \n",
       "Change to group/activity                     7491    7491        7491   \n",
       "Chemical weapon                                 5       5           5   \n",
       "Disrupted weapons use                        3931    3931        3931   \n",
       "Excessive force against protesters           1603    1603        1603   \n",
       "Government regains territory                 3168    3168        3168   \n",
       "Grenade                                      1529    1529        1529   \n",
       "Headquarters or base established              297     297         297   \n",
       "Looting/property destruction                11678   11678       11678   \n",
       "Mob violence                                20468   20468       20468   \n",
       "Non-state actor overtakes territory          1234    1234        1234   \n",
       "Non-violent transfer of territory             529     529         529   \n",
       "Other                                        3686    3686        3686   \n",
       "Peaceful protest                           316121  316121      316121   \n",
       "Protest with intervention                   15682   15682       15682   \n",
       "Remote explosive/landmine/IED               16246   16246       16246   \n",
       "Sexual violence                              1081    1081        1081   \n",
       "Shelling/artillery/missile attack           47531   47531       47531   \n",
       "Suicide bomb                                  340     340         340   \n",
       "Violent demonstration                       24788   24788       24788   \n",
       "\n",
       "                                     timestamp    iso3  \n",
       "sub_event_type                                          \n",
       "Abduction/forced disappearance            7058    7058  \n",
       "Agreement                                  781     781  \n",
       "Air/drone strike                         22217   22217  \n",
       "Armed clash                             121343  121343  \n",
       "Arrests                                   4038    4038  \n",
       "Attack                                   65565   65565  \n",
       "Change to group/activity                  7491    7491  \n",
       "Chemical weapon                              5       5  \n",
       "Disrupted weapons use                     3931    3931  \n",
       "Excessive force against protesters        1603    1603  \n",
       "Government regains territory              3168    3168  \n",
       "Grenade                                   1529    1529  \n",
       "Headquarters or base established           297     297  \n",
       "Looting/property destruction             11678   11678  \n",
       "Mob violence                             20468   20468  \n",
       "Non-state actor overtakes territory       1234    1234  \n",
       "Non-violent transfer of territory          529     529  \n",
       "Other                                     3686    3686  \n",
       "Peaceful protest                        316121  316121  \n",
       "Protest with intervention                15682   15682  \n",
       "Remote explosive/landmine/IED            16246   16246  \n",
       "Sexual violence                           1081    1081  \n",
       "Shelling/artillery/missile attack        47531   47531  \n",
       "Suicide bomb                               340     340  \n",
       "Violent demonstration                    24788   24788  \n",
       "\n",
       "[25 rows x 30 columns]"
      ]
     },
     "execution_count": 5,
     "metadata": {},
     "output_type": "execute_result"
    }
   ],
   "source": [
    "df.groupby('sub_event_type').count()"
   ]
  },
  {
   "cell_type": "code",
   "execution_count": 6,
   "id": "d9cfd54a",
   "metadata": {},
   "outputs": [
    {
     "data": {
      "text/html": [
       "<div>\n",
       "<style scoped>\n",
       "    .dataframe tbody tr th:only-of-type {\n",
       "        vertical-align: middle;\n",
       "    }\n",
       "\n",
       "    .dataframe tbody tr th {\n",
       "        vertical-align: top;\n",
       "    }\n",
       "\n",
       "    .dataframe thead th {\n",
       "        text-align: right;\n",
       "    }\n",
       "</style>\n",
       "<table border=\"1\" class=\"dataframe\">\n",
       "  <thead>\n",
       "    <tr style=\"text-align: right;\">\n",
       "      <th></th>\n",
       "      <th>data_id</th>\n",
       "      <th>iso</th>\n",
       "      <th>event_id_cnty</th>\n",
       "      <th>event_id_no_cnty</th>\n",
       "      <th>event_date</th>\n",
       "      <th>year</th>\n",
       "      <th>time_precision</th>\n",
       "      <th>event_type</th>\n",
       "      <th>sub_event_type</th>\n",
       "      <th>actor1</th>\n",
       "      <th>...</th>\n",
       "      <th>admin3</th>\n",
       "      <th>latitude</th>\n",
       "      <th>longitude</th>\n",
       "      <th>geo_precision</th>\n",
       "      <th>source</th>\n",
       "      <th>source_scale</th>\n",
       "      <th>notes</th>\n",
       "      <th>fatalities</th>\n",
       "      <th>timestamp</th>\n",
       "      <th>iso3</th>\n",
       "    </tr>\n",
       "    <tr>\n",
       "      <th>location</th>\n",
       "      <th></th>\n",
       "      <th></th>\n",
       "      <th></th>\n",
       "      <th></th>\n",
       "      <th></th>\n",
       "      <th></th>\n",
       "      <th></th>\n",
       "      <th></th>\n",
       "      <th></th>\n",
       "      <th></th>\n",
       "      <th></th>\n",
       "      <th></th>\n",
       "      <th></th>\n",
       "      <th></th>\n",
       "      <th></th>\n",
       "      <th></th>\n",
       "      <th></th>\n",
       "      <th></th>\n",
       "      <th></th>\n",
       "      <th></th>\n",
       "      <th></th>\n",
       "    </tr>\n",
       "  </thead>\n",
       "  <tbody>\n",
       "    <tr>\n",
       "      <th>1 de Maio</th>\n",
       "      <td>3</td>\n",
       "      <td>3</td>\n",
       "      <td>3</td>\n",
       "      <td>3</td>\n",
       "      <td>3</td>\n",
       "      <td>3</td>\n",
       "      <td>3</td>\n",
       "      <td>3</td>\n",
       "      <td>3</td>\n",
       "      <td>3</td>\n",
       "      <td>...</td>\n",
       "      <td>3</td>\n",
       "      <td>3</td>\n",
       "      <td>3</td>\n",
       "      <td>3</td>\n",
       "      <td>3</td>\n",
       "      <td>3</td>\n",
       "      <td>3</td>\n",
       "      <td>3</td>\n",
       "      <td>3</td>\n",
       "      <td>3</td>\n",
       "    </tr>\n",
       "    <tr>\n",
       "      <th>10th Armored Division</th>\n",
       "      <td>1</td>\n",
       "      <td>1</td>\n",
       "      <td>1</td>\n",
       "      <td>1</td>\n",
       "      <td>1</td>\n",
       "      <td>1</td>\n",
       "      <td>1</td>\n",
       "      <td>1</td>\n",
       "      <td>1</td>\n",
       "      <td>1</td>\n",
       "      <td>...</td>\n",
       "      <td>1</td>\n",
       "      <td>1</td>\n",
       "      <td>1</td>\n",
       "      <td>1</td>\n",
       "      <td>1</td>\n",
       "      <td>1</td>\n",
       "      <td>1</td>\n",
       "      <td>1</td>\n",
       "      <td>1</td>\n",
       "      <td>1</td>\n",
       "    </tr>\n",
       "    <tr>\n",
       "      <th>10th of Ramadan City</th>\n",
       "      <td>8</td>\n",
       "      <td>8</td>\n",
       "      <td>8</td>\n",
       "      <td>8</td>\n",
       "      <td>8</td>\n",
       "      <td>8</td>\n",
       "      <td>8</td>\n",
       "      <td>8</td>\n",
       "      <td>8</td>\n",
       "      <td>8</td>\n",
       "      <td>...</td>\n",
       "      <td>0</td>\n",
       "      <td>8</td>\n",
       "      <td>8</td>\n",
       "      <td>8</td>\n",
       "      <td>8</td>\n",
       "      <td>8</td>\n",
       "      <td>8</td>\n",
       "      <td>8</td>\n",
       "      <td>8</td>\n",
       "      <td>8</td>\n",
       "    </tr>\n",
       "    <tr>\n",
       "      <th>11 de Febrero</th>\n",
       "      <td>2</td>\n",
       "      <td>2</td>\n",
       "      <td>2</td>\n",
       "      <td>2</td>\n",
       "      <td>2</td>\n",
       "      <td>2</td>\n",
       "      <td>2</td>\n",
       "      <td>2</td>\n",
       "      <td>2</td>\n",
       "      <td>2</td>\n",
       "      <td>...</td>\n",
       "      <td>0</td>\n",
       "      <td>2</td>\n",
       "      <td>2</td>\n",
       "      <td>2</td>\n",
       "      <td>2</td>\n",
       "      <td>2</td>\n",
       "      <td>2</td>\n",
       "      <td>2</td>\n",
       "      <td>2</td>\n",
       "      <td>2</td>\n",
       "    </tr>\n",
       "    <tr>\n",
       "      <th>112th Brigade</th>\n",
       "      <td>2</td>\n",
       "      <td>2</td>\n",
       "      <td>2</td>\n",
       "      <td>2</td>\n",
       "      <td>2</td>\n",
       "      <td>2</td>\n",
       "      <td>2</td>\n",
       "      <td>2</td>\n",
       "      <td>2</td>\n",
       "      <td>2</td>\n",
       "      <td>...</td>\n",
       "      <td>2</td>\n",
       "      <td>2</td>\n",
       "      <td>2</td>\n",
       "      <td>2</td>\n",
       "      <td>2</td>\n",
       "      <td>2</td>\n",
       "      <td>2</td>\n",
       "      <td>2</td>\n",
       "      <td>2</td>\n",
       "      <td>2</td>\n",
       "    </tr>\n",
       "    <tr>\n",
       "      <th>...</th>\n",
       "      <td>...</td>\n",
       "      <td>...</td>\n",
       "      <td>...</td>\n",
       "      <td>...</td>\n",
       "      <td>...</td>\n",
       "      <td>...</td>\n",
       "      <td>...</td>\n",
       "      <td>...</td>\n",
       "      <td>...</td>\n",
       "      <td>...</td>\n",
       "      <td>...</td>\n",
       "      <td>...</td>\n",
       "      <td>...</td>\n",
       "      <td>...</td>\n",
       "      <td>...</td>\n",
       "      <td>...</td>\n",
       "      <td>...</td>\n",
       "      <td>...</td>\n",
       "      <td>...</td>\n",
       "      <td>...</td>\n",
       "      <td>...</td>\n",
       "    </tr>\n",
       "    <tr>\n",
       "      <th>eThekwini</th>\n",
       "      <td>1</td>\n",
       "      <td>1</td>\n",
       "      <td>1</td>\n",
       "      <td>1</td>\n",
       "      <td>1</td>\n",
       "      <td>1</td>\n",
       "      <td>1</td>\n",
       "      <td>1</td>\n",
       "      <td>1</td>\n",
       "      <td>1</td>\n",
       "      <td>...</td>\n",
       "      <td>1</td>\n",
       "      <td>1</td>\n",
       "      <td>1</td>\n",
       "      <td>1</td>\n",
       "      <td>1</td>\n",
       "      <td>1</td>\n",
       "      <td>1</td>\n",
       "      <td>1</td>\n",
       "      <td>1</td>\n",
       "      <td>1</td>\n",
       "    </tr>\n",
       "    <tr>\n",
       "      <th>s-Heerenberg</th>\n",
       "      <td>1</td>\n",
       "      <td>1</td>\n",
       "      <td>1</td>\n",
       "      <td>1</td>\n",
       "      <td>1</td>\n",
       "      <td>1</td>\n",
       "      <td>1</td>\n",
       "      <td>1</td>\n",
       "      <td>1</td>\n",
       "      <td>1</td>\n",
       "      <td>...</td>\n",
       "      <td>0</td>\n",
       "      <td>1</td>\n",
       "      <td>1</td>\n",
       "      <td>1</td>\n",
       "      <td>1</td>\n",
       "      <td>1</td>\n",
       "      <td>1</td>\n",
       "      <td>1</td>\n",
       "      <td>1</td>\n",
       "      <td>1</td>\n",
       "    </tr>\n",
       "    <tr>\n",
       "      <th>uMbogintwini</th>\n",
       "      <td>1</td>\n",
       "      <td>1</td>\n",
       "      <td>1</td>\n",
       "      <td>1</td>\n",
       "      <td>1</td>\n",
       "      <td>1</td>\n",
       "      <td>1</td>\n",
       "      <td>1</td>\n",
       "      <td>1</td>\n",
       "      <td>1</td>\n",
       "      <td>...</td>\n",
       "      <td>1</td>\n",
       "      <td>1</td>\n",
       "      <td>1</td>\n",
       "      <td>1</td>\n",
       "      <td>1</td>\n",
       "      <td>1</td>\n",
       "      <td>1</td>\n",
       "      <td>1</td>\n",
       "      <td>1</td>\n",
       "      <td>1</td>\n",
       "    </tr>\n",
       "    <tr>\n",
       "      <th>uMgababa</th>\n",
       "      <td>4</td>\n",
       "      <td>4</td>\n",
       "      <td>4</td>\n",
       "      <td>4</td>\n",
       "      <td>4</td>\n",
       "      <td>4</td>\n",
       "      <td>4</td>\n",
       "      <td>4</td>\n",
       "      <td>4</td>\n",
       "      <td>4</td>\n",
       "      <td>...</td>\n",
       "      <td>4</td>\n",
       "      <td>4</td>\n",
       "      <td>4</td>\n",
       "      <td>4</td>\n",
       "      <td>4</td>\n",
       "      <td>4</td>\n",
       "      <td>4</td>\n",
       "      <td>4</td>\n",
       "      <td>4</td>\n",
       "      <td>4</td>\n",
       "    </tr>\n",
       "    <tr>\n",
       "      <th>uMhlanga</th>\n",
       "      <td>1</td>\n",
       "      <td>1</td>\n",
       "      <td>1</td>\n",
       "      <td>1</td>\n",
       "      <td>1</td>\n",
       "      <td>1</td>\n",
       "      <td>1</td>\n",
       "      <td>1</td>\n",
       "      <td>1</td>\n",
       "      <td>1</td>\n",
       "      <td>...</td>\n",
       "      <td>1</td>\n",
       "      <td>1</td>\n",
       "      <td>1</td>\n",
       "      <td>1</td>\n",
       "      <td>1</td>\n",
       "      <td>1</td>\n",
       "      <td>1</td>\n",
       "      <td>1</td>\n",
       "      <td>1</td>\n",
       "      <td>1</td>\n",
       "    </tr>\n",
       "  </tbody>\n",
       "</table>\n",
       "<p>70716 rows × 30 columns</p>\n",
       "</div>"
      ],
      "text/plain": [
       "                       data_id  iso  event_id_cnty  event_id_no_cnty  \\\n",
       "location                                                               \n",
       "1 de Maio                    3    3              3                 3   \n",
       "10th Armored Division        1    1              1                 1   \n",
       "10th of Ramadan City         8    8              8                 8   \n",
       "11 de Febrero                2    2              2                 2   \n",
       "112th Brigade                2    2              2                 2   \n",
       "...                        ...  ...            ...               ...   \n",
       "eThekwini                    1    1              1                 1   \n",
       "s-Heerenberg                 1    1              1                 1   \n",
       "uMbogintwini                 1    1              1                 1   \n",
       "uMgababa                     4    4              4                 4   \n",
       "uMhlanga                     1    1              1                 1   \n",
       "\n",
       "                       event_date  year  time_precision  event_type  \\\n",
       "location                                                              \n",
       "1 de Maio                       3     3               3           3   \n",
       "10th Armored Division           1     1               1           1   \n",
       "10th of Ramadan City            8     8               8           8   \n",
       "11 de Febrero                   2     2               2           2   \n",
       "112th Brigade                   2     2               2           2   \n",
       "...                           ...   ...             ...         ...   \n",
       "eThekwini                       1     1               1           1   \n",
       "s-Heerenberg                    1     1               1           1   \n",
       "uMbogintwini                    1     1               1           1   \n",
       "uMgababa                        4     4               4           4   \n",
       "uMhlanga                        1     1               1           1   \n",
       "\n",
       "                       sub_event_type  actor1  ...  admin3  latitude  \\\n",
       "location                                       ...                     \n",
       "1 de Maio                           3       3  ...       3         3   \n",
       "10th Armored Division               1       1  ...       1         1   \n",
       "10th of Ramadan City                8       8  ...       0         8   \n",
       "11 de Febrero                       2       2  ...       0         2   \n",
       "112th Brigade                       2       2  ...       2         2   \n",
       "...                               ...     ...  ...     ...       ...   \n",
       "eThekwini                           1       1  ...       1         1   \n",
       "s-Heerenberg                        1       1  ...       0         1   \n",
       "uMbogintwini                        1       1  ...       1         1   \n",
       "uMgababa                            4       4  ...       4         4   \n",
       "uMhlanga                            1       1  ...       1         1   \n",
       "\n",
       "                       longitude  geo_precision  source  source_scale  notes  \\\n",
       "location                                                                       \n",
       "1 de Maio                      3              3       3             3      3   \n",
       "10th Armored Division          1              1       1             1      1   \n",
       "10th of Ramadan City           8              8       8             8      8   \n",
       "11 de Febrero                  2              2       2             2      2   \n",
       "112th Brigade                  2              2       2             2      2   \n",
       "...                          ...            ...     ...           ...    ...   \n",
       "eThekwini                      1              1       1             1      1   \n",
       "s-Heerenberg                   1              1       1             1      1   \n",
       "uMbogintwini                   1              1       1             1      1   \n",
       "uMgababa                       4              4       4             4      4   \n",
       "uMhlanga                       1              1       1             1      1   \n",
       "\n",
       "                       fatalities  timestamp  iso3  \n",
       "location                                            \n",
       "1 de Maio                       3          3     3  \n",
       "10th Armored Division           1          1     1  \n",
       "10th of Ramadan City            8          8     8  \n",
       "11 de Febrero                   2          2     2  \n",
       "112th Brigade                   2          2     2  \n",
       "...                           ...        ...   ...  \n",
       "eThekwini                       1          1     1  \n",
       "s-Heerenberg                    1          1     1  \n",
       "uMbogintwini                    1          1     1  \n",
       "uMgababa                        4          4     4  \n",
       "uMhlanga                        1          1     1  \n",
       "\n",
       "[70716 rows x 30 columns]"
      ]
     },
     "execution_count": 6,
     "metadata": {},
     "output_type": "execute_result"
    }
   ],
   "source": [
    "df.groupby('location').count()"
   ]
  },
  {
   "cell_type": "code",
   "execution_count": 7,
   "id": "a77946db",
   "metadata": {},
   "outputs": [
    {
     "data": {
      "text/html": [
       "<div>\n",
       "<style scoped>\n",
       "    .dataframe tbody tr th:only-of-type {\n",
       "        vertical-align: middle;\n",
       "    }\n",
       "\n",
       "    .dataframe tbody tr th {\n",
       "        vertical-align: top;\n",
       "    }\n",
       "\n",
       "    .dataframe thead th {\n",
       "        text-align: right;\n",
       "    }\n",
       "</style>\n",
       "<table border=\"1\" class=\"dataframe\">\n",
       "  <thead>\n",
       "    <tr style=\"text-align: right;\">\n",
       "      <th></th>\n",
       "      <th>data_id</th>\n",
       "      <th>iso</th>\n",
       "      <th>event_id_cnty</th>\n",
       "      <th>event_id_no_cnty</th>\n",
       "      <th>event_date</th>\n",
       "      <th>year</th>\n",
       "      <th>time_precision</th>\n",
       "      <th>sub_event_type</th>\n",
       "      <th>actor1</th>\n",
       "      <th>assoc_actor_1</th>\n",
       "      <th>...</th>\n",
       "      <th>location</th>\n",
       "      <th>latitude</th>\n",
       "      <th>longitude</th>\n",
       "      <th>geo_precision</th>\n",
       "      <th>source</th>\n",
       "      <th>source_scale</th>\n",
       "      <th>notes</th>\n",
       "      <th>fatalities</th>\n",
       "      <th>timestamp</th>\n",
       "      <th>iso3</th>\n",
       "    </tr>\n",
       "    <tr>\n",
       "      <th>event_type</th>\n",
       "      <th></th>\n",
       "      <th></th>\n",
       "      <th></th>\n",
       "      <th></th>\n",
       "      <th></th>\n",
       "      <th></th>\n",
       "      <th></th>\n",
       "      <th></th>\n",
       "      <th></th>\n",
       "      <th></th>\n",
       "      <th></th>\n",
       "      <th></th>\n",
       "      <th></th>\n",
       "      <th></th>\n",
       "      <th></th>\n",
       "      <th></th>\n",
       "      <th></th>\n",
       "      <th></th>\n",
       "      <th></th>\n",
       "      <th></th>\n",
       "      <th></th>\n",
       "    </tr>\n",
       "  </thead>\n",
       "  <tbody>\n",
       "    <tr>\n",
       "      <th>Battles</th>\n",
       "      <td>125745</td>\n",
       "      <td>125745</td>\n",
       "      <td>125745</td>\n",
       "      <td>125745</td>\n",
       "      <td>125745</td>\n",
       "      <td>125745</td>\n",
       "      <td>125745</td>\n",
       "      <td>125745</td>\n",
       "      <td>125745</td>\n",
       "      <td>13681</td>\n",
       "      <td>...</td>\n",
       "      <td>125745</td>\n",
       "      <td>125745</td>\n",
       "      <td>125745</td>\n",
       "      <td>125745</td>\n",
       "      <td>125745</td>\n",
       "      <td>125745</td>\n",
       "      <td>125745</td>\n",
       "      <td>125745</td>\n",
       "      <td>125745</td>\n",
       "      <td>125745</td>\n",
       "    </tr>\n",
       "    <tr>\n",
       "      <th>Explosions/Remote violence</th>\n",
       "      <td>87868</td>\n",
       "      <td>87868</td>\n",
       "      <td>87868</td>\n",
       "      <td>87868</td>\n",
       "      <td>87868</td>\n",
       "      <td>87868</td>\n",
       "      <td>87868</td>\n",
       "      <td>87868</td>\n",
       "      <td>87868</td>\n",
       "      <td>7491</td>\n",
       "      <td>...</td>\n",
       "      <td>87868</td>\n",
       "      <td>87868</td>\n",
       "      <td>87868</td>\n",
       "      <td>87868</td>\n",
       "      <td>87868</td>\n",
       "      <td>87868</td>\n",
       "      <td>87868</td>\n",
       "      <td>87868</td>\n",
       "      <td>87868</td>\n",
       "      <td>87868</td>\n",
       "    </tr>\n",
       "    <tr>\n",
       "      <th>Protests</th>\n",
       "      <td>333406</td>\n",
       "      <td>333406</td>\n",
       "      <td>333406</td>\n",
       "      <td>333406</td>\n",
       "      <td>333406</td>\n",
       "      <td>333406</td>\n",
       "      <td>333406</td>\n",
       "      <td>333406</td>\n",
       "      <td>333406</td>\n",
       "      <td>233597</td>\n",
       "      <td>...</td>\n",
       "      <td>333406</td>\n",
       "      <td>333406</td>\n",
       "      <td>333406</td>\n",
       "      <td>333406</td>\n",
       "      <td>333406</td>\n",
       "      <td>333406</td>\n",
       "      <td>333406</td>\n",
       "      <td>333406</td>\n",
       "      <td>333406</td>\n",
       "      <td>333406</td>\n",
       "    </tr>\n",
       "    <tr>\n",
       "      <th>Riots</th>\n",
       "      <td>45256</td>\n",
       "      <td>45256</td>\n",
       "      <td>45256</td>\n",
       "      <td>45256</td>\n",
       "      <td>45256</td>\n",
       "      <td>45256</td>\n",
       "      <td>45256</td>\n",
       "      <td>45256</td>\n",
       "      <td>45256</td>\n",
       "      <td>25068</td>\n",
       "      <td>...</td>\n",
       "      <td>45256</td>\n",
       "      <td>45256</td>\n",
       "      <td>45256</td>\n",
       "      <td>45256</td>\n",
       "      <td>45256</td>\n",
       "      <td>45256</td>\n",
       "      <td>45256</td>\n",
       "      <td>45256</td>\n",
       "      <td>45256</td>\n",
       "      <td>45256</td>\n",
       "    </tr>\n",
       "    <tr>\n",
       "      <th>Strategic developments</th>\n",
       "      <td>32431</td>\n",
       "      <td>32431</td>\n",
       "      <td>32431</td>\n",
       "      <td>32431</td>\n",
       "      <td>32431</td>\n",
       "      <td>32431</td>\n",
       "      <td>32431</td>\n",
       "      <td>32431</td>\n",
       "      <td>32431</td>\n",
       "      <td>5964</td>\n",
       "      <td>...</td>\n",
       "      <td>32431</td>\n",
       "      <td>32431</td>\n",
       "      <td>32431</td>\n",
       "      <td>32431</td>\n",
       "      <td>32431</td>\n",
       "      <td>32431</td>\n",
       "      <td>32431</td>\n",
       "      <td>32431</td>\n",
       "      <td>32431</td>\n",
       "      <td>32431</td>\n",
       "    </tr>\n",
       "    <tr>\n",
       "      <th>Violence against civilians</th>\n",
       "      <td>73704</td>\n",
       "      <td>73704</td>\n",
       "      <td>73704</td>\n",
       "      <td>73704</td>\n",
       "      <td>73704</td>\n",
       "      <td>73704</td>\n",
       "      <td>73704</td>\n",
       "      <td>73704</td>\n",
       "      <td>73704</td>\n",
       "      <td>4274</td>\n",
       "      <td>...</td>\n",
       "      <td>73704</td>\n",
       "      <td>73704</td>\n",
       "      <td>73704</td>\n",
       "      <td>73704</td>\n",
       "      <td>73704</td>\n",
       "      <td>73704</td>\n",
       "      <td>73704</td>\n",
       "      <td>73704</td>\n",
       "      <td>73704</td>\n",
       "      <td>73704</td>\n",
       "    </tr>\n",
       "  </tbody>\n",
       "</table>\n",
       "<p>6 rows × 30 columns</p>\n",
       "</div>"
      ],
      "text/plain": [
       "                            data_id     iso  event_id_cnty  event_id_no_cnty  \\\n",
       "event_type                                                                     \n",
       "Battles                      125745  125745         125745            125745   \n",
       "Explosions/Remote violence    87868   87868          87868             87868   \n",
       "Protests                     333406  333406         333406            333406   \n",
       "Riots                         45256   45256          45256             45256   \n",
       "Strategic developments        32431   32431          32431             32431   \n",
       "Violence against civilians    73704   73704          73704             73704   \n",
       "\n",
       "                            event_date    year  time_precision  \\\n",
       "event_type                                                       \n",
       "Battles                         125745  125745          125745   \n",
       "Explosions/Remote violence       87868   87868           87868   \n",
       "Protests                        333406  333406          333406   \n",
       "Riots                            45256   45256           45256   \n",
       "Strategic developments           32431   32431           32431   \n",
       "Violence against civilians       73704   73704           73704   \n",
       "\n",
       "                            sub_event_type  actor1  assoc_actor_1  ...  \\\n",
       "event_type                                                         ...   \n",
       "Battles                             125745  125745          13681  ...   \n",
       "Explosions/Remote violence           87868   87868           7491  ...   \n",
       "Protests                            333406  333406         233597  ...   \n",
       "Riots                                45256   45256          25068  ...   \n",
       "Strategic developments               32431   32431           5964  ...   \n",
       "Violence against civilians           73704   73704           4274  ...   \n",
       "\n",
       "                            location  latitude  longitude  geo_precision  \\\n",
       "event_type                                                                 \n",
       "Battles                       125745    125745     125745         125745   \n",
       "Explosions/Remote violence     87868     87868      87868          87868   \n",
       "Protests                      333406    333406     333406         333406   \n",
       "Riots                          45256     45256      45256          45256   \n",
       "Strategic developments         32431     32431      32431          32431   \n",
       "Violence against civilians     73704     73704      73704          73704   \n",
       "\n",
       "                            source  source_scale   notes  fatalities  \\\n",
       "event_type                                                             \n",
       "Battles                     125745        125745  125745      125745   \n",
       "Explosions/Remote violence   87868         87868   87868       87868   \n",
       "Protests                    333406        333406  333406      333406   \n",
       "Riots                        45256         45256   45256       45256   \n",
       "Strategic developments       32431         32431   32431       32431   \n",
       "Violence against civilians   73704         73704   73704       73704   \n",
       "\n",
       "                            timestamp    iso3  \n",
       "event_type                                     \n",
       "Battles                        125745  125745  \n",
       "Explosions/Remote violence      87868   87868  \n",
       "Protests                       333406  333406  \n",
       "Riots                           45256   45256  \n",
       "Strategic developments          32431   32431  \n",
       "Violence against civilians      73704   73704  \n",
       "\n",
       "[6 rows x 30 columns]"
      ]
     },
     "execution_count": 7,
     "metadata": {},
     "output_type": "execute_result"
    }
   ],
   "source": [
    "df.groupby('event_type').count()"
   ]
  },
  {
   "cell_type": "code",
   "execution_count": 8,
   "id": "c177a237",
   "metadata": {},
   "outputs": [
    {
     "data": {
      "text/plain": [
       "333406"
      ]
     },
     "execution_count": 8,
     "metadata": {},
     "output_type": "execute_result"
    }
   ],
   "source": [
    "df2=df.loc[df['event_type']=='Protests']\n",
    "df2['data_id'].count()"
   ]
  },
  {
   "cell_type": "code",
   "execution_count": 9,
   "id": "026049a4",
   "metadata": {},
   "outputs": [
    {
     "data": {
      "text/plain": [
       "country    region           sub_event_type                    \n",
       "Myanmar    Southeast Asia   Excessive force against protesters    370\n",
       "Sudan      Northern Africa  Excessive force against protesters    208\n",
       "Nicaragua  Central America  Excessive force against protesters    180\n",
       "Ethiopia   Eastern Africa   Excessive force against protesters    150\n",
       "Iraq       Middle East      Excessive force against protesters    120\n",
       "                                                                 ... \n",
       "Ghana      Western Africa   Protest with intervention               0\n",
       "                            Peaceful protest                        0\n",
       "                            Excessive force against protesters      0\n",
       "Germany    Europe           Protest with intervention               0\n",
       "eSwatini   Southern Africa  Protest with intervention               0\n",
       "Name: fatalities, Length: 442, dtype: int64"
      ]
     },
     "execution_count": 9,
     "metadata": {},
     "output_type": "execute_result"
    }
   ],
   "source": [
    "d3=df2.groupby(['country','region','sub_event_type'])['fatalities'].sum()\n",
    "d3.sort_values(ascending=False)"
   ]
  },
  {
   "cell_type": "code",
   "execution_count": 10,
   "id": "a343d5bf",
   "metadata": {},
   "outputs": [
    {
     "data": {
      "text/plain": [
       "actor1\n",
       "Military Forces of Afghanistan (2014-)                        60940\n",
       "Military Forces of Yemen (2016-) Supreme Political Council    37169\n",
       "Taliban                                                       27566\n",
       "Military Forces of Yemen (2012-)                              21219\n",
       "Unidentified Gang (Mexico)                                    13692\n",
       "                                                              ...  \n",
       "Opposition Bloc                                                   0\n",
       "Opposition Platform - For Life                                    0\n",
       "FNPL: Fatherland and Liberty Nationalist Front                    0\n",
       "Organisation Anarchist Action                                     0\n",
       "Zouar Communal Militia (Chad)                                     0\n",
       "Name: fatalities, Length: 6099, dtype: int64"
      ]
     },
     "execution_count": 10,
     "metadata": {},
     "output_type": "execute_result"
    }
   ],
   "source": [
    "dz=df.groupby('actor1')['fatalities'].sum()\n",
    "dz.sort_values(ascending=False)"
   ]
  },
  {
   "cell_type": "code",
   "execution_count": 11,
   "id": "b063a660",
   "metadata": {},
   "outputs": [
    {
     "data": {
      "text/plain": [
       "sub_event_type\n",
       "Excessive force against protesters    1431\n",
       "Peaceful protest                         2\n",
       "Protest with intervention                0\n",
       "Name: fatalities, dtype: int64"
      ]
     },
     "execution_count": 11,
     "metadata": {},
     "output_type": "execute_result"
    }
   ],
   "source": [
    "ds2_example=df2.groupby('sub_event_type')['fatalities'].sum()\n",
    "ds2_example.sort_values(ascending=False)"
   ]
  },
  {
   "cell_type": "code",
   "execution_count": 12,
   "id": "b2d9017c",
   "metadata": {},
   "outputs": [
    {
     "data": {
      "text/plain": [
       "(1603, 1431, 0.8927011852776044)"
      ]
     },
     "execution_count": 12,
     "metadata": {},
     "output_type": "execute_result"
    }
   ],
   "source": [
    "ds2=df2.loc[df2['sub_event_type']=='Excessive force against protesters']\n",
    "ds2['data_id'].count(),ds2['fatalities'].sum(),(ds2['fatalities'].sum()/ds2['data_id'].count())"
   ]
  },
  {
   "cell_type": "code",
   "execution_count": 13,
   "id": "35e29347",
   "metadata": {},
   "outputs": [
    {
     "data": {
      "text/plain": [
       "(214, 370, 1.7289719626168225)"
      ]
     },
     "execution_count": 13,
     "metadata": {},
     "output_type": "execute_result"
    }
   ],
   "source": [
    "ds3=ds2.loc[df2['country']=='Myanmar']\n",
    "ds3['data_id'].count(),ds3['fatalities'].sum(),(ds3['fatalities'].sum()/ds3['data_id'].count())"
   ]
  },
  {
   "cell_type": "code",
   "execution_count": 14,
   "id": "333c66ea",
   "metadata": {},
   "outputs": [
    {
     "data": {
      "text/plain": [
       "(316121, 1603, 0.005070843126524337)"
      ]
     },
     "execution_count": 14,
     "metadata": {},
     "output_type": "execute_result"
    }
   ],
   "source": [
    "df2_p=df.loc[df['sub_event_type']=='Peaceful protest']\n",
    "df2_p['data_id'].count(),ds2['data_id'].count(),(ds2['data_id'].count()/df2_p['data_id'].count())"
   ]
  },
  {
   "cell_type": "code",
   "execution_count": 15,
   "id": "82ee6fff",
   "metadata": {},
   "outputs": [
    {
     "data": {
      "text/plain": [
       "(4364, 214, 0.04903758020164986)"
      ]
     },
     "execution_count": 15,
     "metadata": {},
     "output_type": "execute_result"
    }
   ],
   "source": [
    "dfP_m=df2_p.loc[df2_p['country']=='Myanmar']\n",
    "dfP_m['data_id'].count(),ds3['data_id'].count(),(ds3['data_id'].count()/dfP_m['data_id'].count())"
   ]
  },
  {
   "cell_type": "code",
   "execution_count": 16,
   "id": "78f17dc4",
   "metadata": {},
   "outputs": [],
   "source": [
    "d_pr1=ds2.loc[ds2['region']=='Southeast Asia']\n",
    "d_pr2=ds2.loc[ds2['region']=='Northern Africa']\n",
    "d_pr3=ds2.loc[ds2['region']=='Central America']\n",
    "d_pr4=ds2.loc[ds2['region']=='Middle East']\n",
    "d_pr5=ds2.loc[ds2['region']=='Eastern Africa']\n",
    "\n",
    "df2_pr1=df2_p.loc[df2_p['region']=='Southeast Asia']\n",
    "df2_pr2=df2_p.loc[df2_p['region']=='Northern Africa']\n",
    "df2_pr3=df2_p.loc[df2_p['region']=='Central America']\n",
    "df2_pr4=df2_p.loc[df2_p['region']=='Middle East']\n",
    "df2_pr5=df2_p.loc[df2_p['region']=='Eastern Africa']"
   ]
  },
  {
   "cell_type": "code",
   "execution_count": 17,
   "id": "91f2db4e",
   "metadata": {},
   "outputs": [
    {
     "data": {
      "text/plain": [
       "(country\n",
       " Cambodia         0\n",
       " Indonesia        1\n",
       " Myanmar        370\n",
       " Philippines      0\n",
       " Thailand         0\n",
       " Vietnam          0\n",
       " Name: fatalities, dtype: int64,\n",
       " country\n",
       " Cambodia         5\n",
       " Indonesia       11\n",
       " Myanmar        214\n",
       " Philippines      2\n",
       " Thailand         1\n",
       " Vietnam          3\n",
       " Name: data_id, dtype: int64,\n",
       " country\n",
       " Cambodia        188\n",
       " Indonesia      2821\n",
       " Laos              1\n",
       " Malaysia        319\n",
       " Myanmar        4364\n",
       " Philippines     733\n",
       " Thailand       1427\n",
       " Vietnam          39\n",
       " Name: data_id, dtype: int64)"
      ]
     },
     "execution_count": 17,
     "metadata": {},
     "output_type": "execute_result"
    }
   ],
   "source": [
    "d_pr1.groupby('country')['fatalities'].sum(),d_pr1.groupby('country')['data_id'].count(),df2_pr1.groupby('country')['data_id'].count()"
   ]
  },
  {
   "cell_type": "code",
   "execution_count": 18,
   "id": "659bb55f",
   "metadata": {},
   "outputs": [
    {
     "data": {
      "text/plain": [
       "(country\n",
       " Algeria      0\n",
       " Egypt        0\n",
       " Libya        3\n",
       " Morocco      1\n",
       " Sudan      208\n",
       " Tunisia      0\n",
       " Name: fatalities, dtype: int64,\n",
       " country\n",
       " Algeria     2\n",
       " Egypt       5\n",
       " Libya       9\n",
       " Morocco     5\n",
       " Sudan      99\n",
       " Tunisia     2\n",
       " Name: data_id, dtype: int64,\n",
       " country\n",
       " Algeria    5204\n",
       " Egypt       237\n",
       " Libya       344\n",
       " Morocco    2696\n",
       " Sudan      1550\n",
       " Tunisia    3433\n",
       " Name: data_id, dtype: int64)"
      ]
     },
     "execution_count": 18,
     "metadata": {},
     "output_type": "execute_result"
    }
   ],
   "source": [
    "d_pr2.groupby('country')['fatalities'].sum(),d_pr2.groupby('country')['data_id'].count(),df2_pr2.groupby('country')['data_id'].count()"
   ]
  },
  {
   "cell_type": "code",
   "execution_count": 19,
   "id": "049e291d",
   "metadata": {},
   "outputs": [
    {
     "data": {
      "text/plain": [
       "(country\n",
       " Belize           0\n",
       " Costa Rica       0\n",
       " El Salvador      0\n",
       " Guatemala        0\n",
       " Honduras         3\n",
       " Nicaragua      180\n",
       " Name: fatalities, dtype: int64,\n",
       " country\n",
       " Belize           1\n",
       " Costa Rica       5\n",
       " El Salvador      1\n",
       " Guatemala        2\n",
       " Honduras         8\n",
       " Nicaragua      114\n",
       " Name: data_id, dtype: int64,\n",
       " country\n",
       " Belize           58\n",
       " Costa Rica      849\n",
       " El Salvador     503\n",
       " Guatemala       635\n",
       " Honduras        899\n",
       " Nicaragua       175\n",
       " Panama         1228\n",
       " Name: data_id, dtype: int64)"
      ]
     },
     "execution_count": 19,
     "metadata": {},
     "output_type": "execute_result"
    }
   ],
   "source": [
    "d_pr3.groupby('country')['fatalities'].sum(),d_pr3.groupby('country')['data_id'].count(),df2_pr3.groupby('country')['data_id'].count()"
   ]
  },
  {
   "cell_type": "code",
   "execution_count": 20,
   "id": "2ed56b4e",
   "metadata": {},
   "outputs": [
    {
     "data": {
      "text/plain": [
       "(country\n",
       " Bahrain        1\n",
       " Iran           0\n",
       " Iraq         120\n",
       " Israel         0\n",
       " Lebanon        1\n",
       " Palestine      3\n",
       " Syria         20\n",
       " Turkey         3\n",
       " Yemen         25\n",
       " Name: fatalities, dtype: int64,\n",
       " country\n",
       " Bahrain       2\n",
       " Iran          9\n",
       " Iraq         66\n",
       " Israel        7\n",
       " Lebanon      12\n",
       " Palestine    84\n",
       " Syria        36\n",
       " Turkey        7\n",
       " Yemen        47\n",
       " Name: data_id, dtype: int64,\n",
       " country\n",
       " Bahrain                 1223\n",
       " Iran                    6798\n",
       " Iraq                    3453\n",
       " Israel                  8206\n",
       " Jordan                   442\n",
       " Kuwait                    37\n",
       " Lebanon                 6163\n",
       " Oman                      16\n",
       " Palestine                672\n",
       " Qatar                     15\n",
       " Saudi Arabia               5\n",
       " Syria                   1405\n",
       " Turkey                  4001\n",
       " United Arab Emirates       1\n",
       " Yemen                   1657\n",
       " Name: data_id, dtype: int64)"
      ]
     },
     "execution_count": 20,
     "metadata": {},
     "output_type": "execute_result"
    }
   ],
   "source": [
    "d_pr4.groupby('country')['fatalities'].sum(),d_pr4.groupby('country')['data_id'].count(),df2_pr4.groupby('country')['data_id'].count()"
   ]
  },
  {
   "cell_type": "code",
   "execution_count": 21,
   "id": "a37ae1c9",
   "metadata": {},
   "outputs": [
    {
     "data": {
      "text/plain": [
       "(country\n",
       " Burundi          0\n",
       " Djibouti         0\n",
       " Ethiopia       150\n",
       " Kenya            5\n",
       " Malawi           0\n",
       " Mozambique       0\n",
       " Somalia          8\n",
       " South Sudan      0\n",
       " Uganda           4\n",
       " Name: fatalities, dtype: int64,\n",
       " country\n",
       " Burundi         1\n",
       " Djibouti        5\n",
       " Ethiopia       70\n",
       " Kenya           8\n",
       " Malawi          1\n",
       " Mozambique      3\n",
       " Somalia        22\n",
       " South Sudan     1\n",
       " Uganda         18\n",
       " Name: data_id, dtype: int64,\n",
       " country\n",
       " Burundi        108\n",
       " Djibouti        40\n",
       " Eritrea          1\n",
       " Ethiopia       351\n",
       " Kenya          285\n",
       " Madagascar      72\n",
       " Malawi         166\n",
       " Mozambique      45\n",
       " Rwanda           3\n",
       " Somalia        251\n",
       " South Sudan     66\n",
       " Tanzania        18\n",
       " Uganda         217\n",
       " Name: data_id, dtype: int64)"
      ]
     },
     "execution_count": 21,
     "metadata": {},
     "output_type": "execute_result"
    }
   ],
   "source": [
    "d_pr5.groupby('country')['fatalities'].sum(),d_pr5.groupby('country')['data_id'].count(),df2_pr5.groupby('country')['data_id'].count()"
   ]
  },
  {
   "cell_type": "code",
   "execution_count": 22,
   "id": "117b69bc",
   "metadata": {},
   "outputs": [
    {
     "data": {
      "text/plain": [
       "(region\n",
       " South Asia                   68454\n",
       " Europe                       63654\n",
       " North America                42699\n",
       " South America                34414\n",
       " Middle East                  34094\n",
       " East Asia                    26929\n",
       " Northern Africa              13464\n",
       " Southeast Asia                9892\n",
       " Caucasus and Central Asia     6637\n",
       " Central America               4347\n",
       " Western Africa                4196\n",
       " Southern Africa               2923\n",
       " Eastern Africa                1623\n",
       " Middle Africa                 1451\n",
       " Caribbean                     1344\n",
       " Name: data_id, dtype: int64,\n",
       " region\n",
       " Middle East                  270\n",
       " Southeast Asia               236\n",
       " South America                193\n",
       " North America                142\n",
       " Central America              131\n",
       " Eastern Africa               129\n",
       " Northern Africa              122\n",
       " Western Africa                91\n",
       " Middle Africa                 71\n",
       " Europe                        70\n",
       " South Asia                    58\n",
       " East Asia                     30\n",
       " Caribbean                     27\n",
       " Southern Africa               19\n",
       " Caucasus and Central Asia     14\n",
       " Name: data_id, dtype: int64,\n",
       " region\n",
       " Southeast Asia               371\n",
       " Northern Africa              212\n",
       " Central America              183\n",
       " Middle East                  173\n",
       " Eastern Africa               167\n",
       " South America                105\n",
       " Western Africa                83\n",
       " Middle Africa                 44\n",
       " Caucasus and Central Asia     28\n",
       " Caribbean                     25\n",
       " South Asia                    21\n",
       " Southern Africa                8\n",
       " North America                  5\n",
       " East Asia                      3\n",
       " Europe                         3\n",
       " Name: fatalities, dtype: int64)"
      ]
     },
     "execution_count": 22,
     "metadata": {},
     "output_type": "execute_result"
    }
   ],
   "source": [
    "d4=df2_p.groupby('region')['data_id'].count()\n",
    "d4_example2=ds2.groupby('region')['data_id'].count()\n",
    "d4_example1=ds2.groupby('region')['fatalities'].sum()\n",
    "d4.sort_values(ascending=False),d4_example2.sort_values(ascending=False),d4_example1.sort_values(ascending=False)\n"
   ]
  },
  {
   "cell_type": "code",
   "execution_count": 104,
   "id": "0bd1e4b7",
   "metadata": {},
   "outputs": [
    {
     "data": {
      "text/plain": [
       "(array([180.,  26.,   5.,   2.,   0.,   0.,   0.,   0.,   0.,   1.]),\n",
       " array([ 0. ,  3.2,  6.4,  9.6, 12.8, 16. , 19.2, 22.4, 25.6, 28.8, 32. ]),\n",
       " <BarContainer object of 10 artists>)"
      ]
     },
     "execution_count": 104,
     "metadata": {},
     "output_type": "execute_result"
    },
    {
     "data": {
      "image/png": "[encoded data removed]",
      "text/plain": [
       "<Figure size 864x144 with 1 Axes>"
      ]
     },
     "metadata": {
      "needs_background": "light"
     },
     "output_type": "display_data"
    }
   ],
   "source": [
    "fig, ax = plt.subplots(figsize=(12, 2))\n",
    "plt.hist(ds3['fatalities'])"
   ]
  },
  {
   "cell_type": "code",
   "execution_count": 98,
   "id": "13208cc9",
   "metadata": {},
   "outputs": [
    {
     "data": {
      "text/plain": [
       "(array([1.589e+03, 1.100e+01, 1.000e+00, 1.000e+00, 0.000e+00, 0.000e+00,\n",
       "        0.000e+00, 0.000e+00, 0.000e+00, 1.000e+00]),\n",
       " array([  0.,  10.,  20.,  30.,  40.,  50.,  60.,  70.,  80.,  90., 100.]),\n",
       " <BarContainer object of 10 artists>)"
      ]
     },
     "execution_count": 98,
     "metadata": {},
     "output_type": "execute_result"
    },
    {
     "data": {
      "image/png": "[encoded data removed]",
      "text/plain": [
       "<Figure size 864x288 with 1 Axes>"
      ]
     },
     "metadata": {
      "needs_background": "light"
     },
     "output_type": "display_data"
    }
   ],
   "source": [
    "fig, ax = plt.subplots(figsize=(12, 4))\n",
    "plt.hist((ds2['fatalities']))"
   ]
  },
  {
   "cell_type": "code",
   "execution_count": 99,
   "id": "097c96dd",
   "metadata": {},
   "outputs": [
    {
     "data": {
      "text/plain": [
       "(0.07832374009786384, 0.19549697336795188)"
      ]
     },
     "execution_count": 99,
     "metadata": {},
     "output_type": "execute_result"
    }
   ],
   "source": [
    "gpc=ds2['data_id'].count()\n",
    "mpc=ds3['data_id'].count()\n",
    "ste_gp=np.std(ds2['fatalities']) / np.sqrt(gpc)\n",
    "ste_mp=np.std(ds3['fatalities']) / np.sqrt(mpc)\n",
    "ste_gp,ste_mp"
   ]
  },
  {
   "cell_type": "code",
   "execution_count": 100,
   "id": "8c441ef7",
   "metadata": {},
   "outputs": [
    {
     "data": {
      "text/plain": [
       "(0.8927011852776044, 1.7289719626168225)"
      ]
     },
     "execution_count": 100,
     "metadata": {},
     "output_type": "execute_result"
    }
   ],
   "source": [
    "gfm=ds2['fatalities'].mean()\n",
    "mfm=ds3['fatalities'].mean()\n",
    "gp_dist=stats.norm(loc=gfm, scale=ste_gp)\n",
    "mp_dist=stats.norm(loc=mfm, scale=ste_mp)\n",
    "critical_value_right = gp_dist.ppf(1 - 0.04)\n",
    "critical_value_left = gp_dist.ppf(0.04)\n",
    "\n",
    "gfm,mfm"
   ]
  },
  {
   "cell_type": "code",
   "execution_count": 101,
   "id": "d3ebf5b3",
   "metadata": {},
   "outputs": [
    {
     "data": {
      "text/plain": [
       "<matplotlib.legend.Legend at 0x229ab630f40>"
      ]
     },
     "execution_count": 101,
     "metadata": {},
     "output_type": "execute_result"
    },
    {
     "data": {
      "image/png": "[encoded data removed]",
      "text/plain": [
       "<Figure size 864x288 with 1 Axes>"
      ]
     },
     "metadata": {
      "needs_background": "light"
     },
     "output_type": "display_data"
    }
   ],
   "source": [
    "fig, ax = plt.subplots(figsize=(12, 4))\n",
    "t= np.linspace(gfm - 4*ste_gp, mfm + 4*ste_mp, num=2000)\n",
    "ax.plot(t, gp_dist.pdf(t), label=\"Global\", color='red')\n",
    "ax.plot(t, mp_dist.pdf(t), label =\"Mynmar\", color='blue')    \n",
    "ax.legend()"
   ]
  },
  {
   "cell_type": "code",
   "execution_count": 102,
   "id": "709c264b",
   "metadata": {},
   "outputs": [
    {
     "data": {
      "text/plain": [
       "Ttest_indResult(statistic=-3.9626594528748935, pvalue=9.370261007509798e-05)"
      ]
     },
     "execution_count": 102,
     "metadata": {},
     "output_type": "execute_result"
    }
   ],
   "source": [
    "stats.ttest_ind((ds2['fatalities']),(ds3['fatalities']),equal_var=False)"
   ]
  },
  {
   "cell_type": "code",
   "execution_count": 29,
   "id": "93542bca",
   "metadata": {},
   "outputs": [
    {
     "data": {
      "text/plain": [
       "(99, 208, 2.101010101010101)"
      ]
     },
     "execution_count": 29,
     "metadata": {},
     "output_type": "execute_result"
    }
   ],
   "source": [
    "ds_s=ds2.loc[ds2['country']=='Sudan']\n",
    "ds_s['data_id'].count(),ds_s['fatalities'].sum(),(ds_s['fatalities'].sum()/ds_s['data_id'].count())"
   ]
  },
  {
   "cell_type": "code",
   "execution_count": 30,
   "id": "c4b41005",
   "metadata": {},
   "outputs": [
    {
     "data": {
      "text/plain": [
       "(array([97.,  1.,  0.,  0.,  0.,  0.,  0.,  0.,  0.,  1.]),\n",
       " array([  0.,  10.,  20.,  30.,  40.,  50.,  60.,  70.,  80.,  90., 100.]),\n",
       " <BarContainer object of 10 artists>)"
      ]
     },
     "execution_count": 30,
     "metadata": {},
     "output_type": "execute_result"
    },
    {
     "data": {
      "image/png": "[encoded data removed]",
      "text/plain": [
       "<Figure size 864x144 with 1 Axes>"
      ]
     },
     "metadata": {
      "needs_background": "light"
     },
     "output_type": "display_data"
    }
   ],
   "source": [
    "fig, ax = plt.subplots(figsize=(12, 2))\n",
    "plt.hist(ds_s['fatalities'])"
   ]
  },
  {
   "cell_type": "code",
   "execution_count": 31,
   "id": "694e1ca0",
   "metadata": {},
   "outputs": [
    {
     "data": {
      "text/plain": [
       "(array([97.,  1.,  0.,  0.,  0.,  0.,  0.,  0.,  0.,  1.]),\n",
       " array([  0.,  10.,  20.,  30.,  40.,  50.,  60.,  70.,  80.,  90., 100.]),\n",
       " <BarContainer object of 10 artists>)"
      ]
     },
     "execution_count": 31,
     "metadata": {},
     "output_type": "execute_result"
    },
    {
     "data": {
      "image/png": "[encoded data removed]",
      "text/plain": [
       "<Figure size 864x216 with 1 Axes>"
      ]
     },
     "metadata": {
      "needs_background": "light"
     },
     "output_type": "display_data"
    }
   ],
   "source": [
    "fig, ax = plt.subplots(figsize=(12, 3))\n",
    "plt.hist(ds3['fatalities'])\n",
    "plt.hist(ds_s['fatalities'])"
   ]
  },
  {
   "cell_type": "code",
   "execution_count": 32,
   "id": "fbe56c61",
   "metadata": {},
   "outputs": [
    {
     "data": {
      "text/plain": [
       "(1.0106559030909563, 2.101010101010101)"
      ]
     },
     "execution_count": 32,
     "metadata": {},
     "output_type": "execute_result"
    }
   ],
   "source": [
    "spc=ds_s['data_id'].count()\n",
    "sfm=ds_s['fatalities'].mean()\n",
    "ste_sp=np.std(ds_s['fatalities']) / np.sqrt(spc)\n",
    "sp_dist=stats.norm(loc=sfm, scale=ste_sp)\n",
    "ste_sp,sfm"
   ]
  },
  {
   "cell_type": "code",
   "execution_count": 33,
   "id": "212f1897",
   "metadata": {},
   "outputs": [
    {
     "data": {
      "text/plain": [
       "Ttest_indResult(statistic=-0.3596214121583746, pvalue=0.7198500484473533)"
      ]
     },
     "execution_count": 33,
     "metadata": {},
     "output_type": "execute_result"
    },
    {
     "data": {
      "image/png": "[encoded data removed]",
      "text/plain": [
       "<Figure size 864x288 with 1 Axes>"
      ]
     },
     "metadata": {
      "needs_background": "light"
     },
     "output_type": "display_data"
    }
   ],
   "source": [
    "fig, ax = plt.subplots(figsize=(12, 4))\n",
    "t= np.linspace(mfm - 4*ste_mp, sfm + 4*ste_sp, num=2000)\n",
    "ax.plot(t, mp_dist.pdf(t), label=\"Mynmar\", color='red')\n",
    "ax.plot(t, sp_dist.pdf(t), label =\"Sudan\", color='blue')    \n",
    "ax.legend()\n",
    "stats.ttest_ind((ds3['fatalities']),(ds_s['fatalities']),equal_var=False)"
   ]
  },
  {
   "cell_type": "code",
   "execution_count": 34,
   "id": "3ba69bf0",
   "metadata": {},
   "outputs": [
    {
     "data": {
      "text/plain": [
       "(114, 180, 1.5789473684210527)"
      ]
     },
     "execution_count": 34,
     "metadata": {},
     "output_type": "execute_result"
    }
   ],
   "source": [
    "ds_n=ds2.loc[df2['country']=='Nicaragua']\n",
    "ds_n['data_id'].count(),ds_n['fatalities'].sum(),(ds_n['fatalities'].sum()/ds_n['data_id'].count())"
   ]
  },
  {
   "cell_type": "code",
   "execution_count": 35,
   "id": "fde4dce0",
   "metadata": {},
   "outputs": [
    {
     "data": {
      "text/plain": [
       "(array([ 9., 70., 18., 10.,  2.,  1.,  1.,  1.,  0.,  2.]),\n",
       " array([0. , 0.9, 1.8, 2.7, 3.6, 4.5, 5.4, 6.3, 7.2, 8.1, 9. ]),\n",
       " <BarContainer object of 10 artists>)"
      ]
     },
     "execution_count": 35,
     "metadata": {},
     "output_type": "execute_result"
    },
    {
     "data": {
      "image/png": "[encoded data removed]",
      "text/plain": [
       "<Figure size 864x144 with 1 Axes>"
      ]
     },
     "metadata": {
      "needs_background": "light"
     },
     "output_type": "display_data"
    }
   ],
   "source": [
    "fig, ax = plt.subplots(figsize=(12, 2))\n",
    "plt.hist(ds_n['fatalities'])"
   ]
  },
  {
   "cell_type": "code",
   "execution_count": 36,
   "id": "e638282a",
   "metadata": {},
   "outputs": [
    {
     "data": {
      "text/plain": [
       "(array([ 9., 70., 18., 10.,  2.,  1.,  1.,  1.,  0.,  2.]),\n",
       " array([0. , 0.9, 1.8, 2.7, 3.6, 4.5, 5.4, 6.3, 7.2, 8.1, 9. ]),\n",
       " <BarContainer object of 10 artists>)"
      ]
     },
     "execution_count": 36,
     "metadata": {},
     "output_type": "execute_result"
    },
    {
     "data": {
      "image/png": "[encoded data removed]",
      "text/plain": [
       "<Figure size 864x216 with 1 Axes>"
      ]
     },
     "metadata": {
      "needs_background": "light"
     },
     "output_type": "display_data"
    }
   ],
   "source": [
    "fig, ax = plt.subplots(figsize=(12, 3))\n",
    "plt.hist(ds_s['fatalities'])\n",
    "plt.hist(ds_n['fatalities'])"
   ]
  },
  {
   "cell_type": "code",
   "execution_count": 37,
   "id": "30d46aee",
   "metadata": {},
   "outputs": [
    {
     "data": {
      "text/plain": [
       "(0.13919189057219775, 1.5789473684210527)"
      ]
     },
     "execution_count": 37,
     "metadata": {},
     "output_type": "execute_result"
    }
   ],
   "source": [
    "npc=ds_n['data_id'].count()\n",
    "nfm=ds_n['fatalities'].mean()\n",
    "ste_np=np.std(ds_n['fatalities']) / np.sqrt(npc)\n",
    "np_dist=stats.norm(loc=nfm, scale=ste_np)\n",
    "ste_np,nfm"
   ]
  },
  {
   "cell_type": "code",
   "execution_count": 38,
   "id": "2ce17146",
   "metadata": {},
   "outputs": [
    {
     "data": {
      "text/plain": [
       "Ttest_indResult(statistic=0.6232423631925849, pvalue=0.5335612098737399)"
      ]
     },
     "execution_count": 38,
     "metadata": {},
     "output_type": "execute_result"
    },
    {
     "data": {
      "image/png": "[encoded data removed]",
      "text/plain": [
       "<Figure size 864x288 with 1 Axes>"
      ]
     },
     "metadata": {
      "needs_background": "light"
     },
     "output_type": "display_data"
    }
   ],
   "source": [
    "fig, ax = plt.subplots(figsize=(12, 4))\n",
    "t= np.linspace(mfm - 4*ste_mp, nfm + 4*ste_np, num=2000)\n",
    "ax.plot(t, mp_dist.pdf(t), label=\"Mynmar\", color='red')\n",
    "ax.plot(t, np_dist.pdf(t), label =\"Nicaragua\", color='blue')    \n",
    "ax.legend()\n",
    "stats.ttest_ind((ds3['fatalities']),(ds_n['fatalities']),equal_var=False)"
   ]
  },
  {
   "cell_type": "code",
   "execution_count": 39,
   "id": "a1c25d51",
   "metadata": {},
   "outputs": [
    {
     "data": {
      "text/plain": [
       "Ttest_indResult(statistic=0.509143221206204, pvalue=0.6117545739579404)"
      ]
     },
     "execution_count": 39,
     "metadata": {},
     "output_type": "execute_result"
    },
    {
     "data": {
      "image/png": "[encoded data removed]",
      "text/plain": [
       "<Figure size 864x288 with 1 Axes>"
      ]
     },
     "metadata": {
      "needs_background": "light"
     },
     "output_type": "display_data"
    }
   ],
   "source": [
    "fig, ax = plt.subplots(figsize=(12, 4))\n",
    "t= np.linspace(sfm - 4*ste_sp, nfm + 4*ste_np, num=2000)\n",
    "ax.plot(t, sp_dist.pdf(t), label=\"Sudan\", color='red')\n",
    "ax.plot(t, np_dist.pdf(t), label =\"Nicaragua\", color='blue')    \n",
    "ax.legend()\n",
    "stats.ttest_ind((ds_s['fatalities']),(ds_n['fatalities']),equal_var=False)"
   ]
  },
  {
   "cell_type": "code",
   "execution_count": 40,
   "id": "dd3d4256",
   "metadata": {},
   "outputs": [
    {
     "data": {
      "text/plain": [
       "(70, 150, 2.142857142857143)"
      ]
     },
     "execution_count": 40,
     "metadata": {},
     "output_type": "execute_result"
    }
   ],
   "source": [
    "ds_e=ds2.loc[ds2['country']=='Ethiopia']\n",
    "ds_e['data_id'].count(),ds_e['fatalities'].sum(),(ds_e['fatalities'].sum()/ds_e['data_id'].count())"
   ]
  },
  {
   "cell_type": "code",
   "execution_count": 41,
   "id": "b3a4608b",
   "metadata": {},
   "outputs": [
    {
     "data": {
      "text/plain": [
       "(array([39., 13.,  9.,  0.,  3.,  2.,  2.,  0.,  1.,  1.]),\n",
       " array([ 0. ,  1.4,  2.8,  4.2,  5.6,  7. ,  8.4,  9.8, 11.2, 12.6, 14. ]),\n",
       " <BarContainer object of 10 artists>)"
      ]
     },
     "execution_count": 41,
     "metadata": {},
     "output_type": "execute_result"
    },
    {
     "data": {
      "image/png": "[encoded data removed]",
      "text/plain": [
       "<Figure size 864x144 with 1 Axes>"
      ]
     },
     "metadata": {
      "needs_background": "light"
     },
     "output_type": "display_data"
    }
   ],
   "source": [
    "fig, ax = plt.subplots(figsize=(12, 2))\n",
    "plt.hist(ds_e['fatalities'])"
   ]
  },
  {
   "cell_type": "code",
   "execution_count": 42,
   "id": "3b842607",
   "metadata": {},
   "outputs": [
    {
     "data": {
      "text/plain": [
       "(array([39., 13.,  9.,  0.,  3.,  2.,  2.,  0.,  1.,  1.]),\n",
       " array([ 0. ,  1.4,  2.8,  4.2,  5.6,  7. ,  8.4,  9.8, 11.2, 12.6, 14. ]),\n",
       " <BarContainer object of 10 artists>)"
      ]
     },
     "execution_count": 42,
     "metadata": {},
     "output_type": "execute_result"
    },
    {
     "data": {
      "image/png": "[encoded data removed]",
      "text/plain": [
       "<Figure size 864x216 with 1 Axes>"
      ]
     },
     "metadata": {
      "needs_background": "light"
     },
     "output_type": "display_data"
    }
   ],
   "source": [
    "fig, ax = plt.subplots(figsize=(12, 3))\n",
    "plt.hist(ds3['fatalities'])\n",
    "plt.hist(ds_e['fatalities'])"
   ]
  },
  {
   "cell_type": "code",
   "execution_count": 43,
   "id": "a5eaa1f2",
   "metadata": {},
   "outputs": [
    {
     "data": {
      "text/plain": [
       "(0.1776304186354009, 2.142857142857143)"
      ]
     },
     "execution_count": 43,
     "metadata": {},
     "output_type": "execute_result"
    }
   ],
   "source": [
    "epc=ds_e['data_id'].count()\n",
    "efm=ds_e['fatalities'].mean()\n",
    "ste_ep=np.std(ds_n['fatalities']) / np.sqrt(epc)\n",
    "ep_dist=stats.norm(loc=nfm, scale=ste_np)\n",
    "ste_ep,efm"
   ]
  },
  {
   "cell_type": "code",
   "execution_count": 106,
   "id": "1c6a96bf",
   "metadata": {},
   "outputs": [
    {
     "data": {
      "text/plain": [
       "Ttest_indResult(statistic=-1.0352246760984087, pvalue=0.3027213616227141)"
      ]
     },
     "execution_count": 106,
     "metadata": {},
     "output_type": "execute_result"
    },
    {
     "data": {
      "image/png": "[encoded data removed]",
      "text/plain": [
       "<Figure size 864x288 with 1 Axes>"
      ]
     },
     "metadata": {
      "needs_background": "light"
     },
     "output_type": "display_data"
    }
   ],
   "source": [
    "fig, ax = plt.subplots(figsize=(12, 4))\n",
    "t= np.linspace(mfm - 4*ste_mp, efm + 4*ste_ep, num=2000)\n",
    "ax.plot(t, mp_dist.pdf(t), label=\"Mynmar\", color='red')\n",
    "ax.plot(t, ep_dist.pdf(t), label =\"Ethiopia\", color='blue')    \n",
    "ax.legend()\n",
    "stats.ttest_ind((ds3['fatalities']),(ds_e['fatalities']),equal_var=False)"
   ]
  },
  {
   "cell_type": "code",
   "execution_count": 45,
   "id": "0c3442b6",
   "metadata": {},
   "outputs": [
    {
     "data": {
      "text/plain": [
       "Ttest_indResult(statistic=-0.03896684395396121, pvalue=0.9689815427905608)"
      ]
     },
     "execution_count": 45,
     "metadata": {},
     "output_type": "execute_result"
    },
    {
     "data": {
      "image/png": "[encoded data removed]",
      "text/plain": [
       "<Figure size 864x288 with 1 Axes>"
      ]
     },
     "metadata": {
      "needs_background": "light"
     },
     "output_type": "display_data"
    }
   ],
   "source": [
    "fig, ax = plt.subplots(figsize=(12, 4))\n",
    "t= np.linspace(sfm - 4*ste_sp, efm + 4*ste_ep, num=2000)\n",
    "ax.plot(t, sp_dist.pdf(t), label=\"Sudan\", color='red')\n",
    "ax.plot(t, ep_dist.pdf(t), label =\"Ethiopia\", color='blue')    \n",
    "ax.legend()\n",
    "stats.ttest_ind((ds_s['fatalities']),(ds_e['fatalities']),equal_var=False)"
   ]
  },
  {
   "cell_type": "code",
   "execution_count": 46,
   "id": "15887c5c",
   "metadata": {},
   "outputs": [
    {
     "data": {
      "text/plain": [
       "(66, 120, 1.8181818181818181)"
      ]
     },
     "execution_count": 46,
     "metadata": {},
     "output_type": "execute_result"
    }
   ],
   "source": [
    "ds_i=ds2.loc[ds2['country']=='Iraq']\n",
    "ds_i['data_id'].count(),ds_i['fatalities'].sum(),(ds_i['fatalities'].sum()/ds_i['data_id'].count())"
   ]
  },
  {
   "cell_type": "code",
   "execution_count": 47,
   "id": "525fc1d9",
   "metadata": {},
   "outputs": [
    {
     "data": {
      "text/plain": [
       "(0.49880899975031107, 1.8181818181818181)"
      ]
     },
     "execution_count": 47,
     "metadata": {},
     "output_type": "execute_result"
    }
   ],
   "source": [
    "ipc=ds_i['data_id'].count()\n",
    "ifm=ds_i['fatalities'].mean()\n",
    "ste_ip=np.std(ds_i['fatalities']) / np.sqrt(ipc)\n",
    "ip_dist=stats.norm(loc=ifm, scale=ste_ip)\n",
    "ste_ip,ifm"
   ]
  },
  {
   "cell_type": "code",
   "execution_count": 48,
   "id": "7aa450f0",
   "metadata": {},
   "outputs": [
    {
     "data": {
      "text/plain": [
       "(array([54.,  6.,  3.,  0.,  1.,  0.,  0.,  1.,  0.,  1.]),\n",
       " array([ 0. ,  2.5,  5. ,  7.5, 10. , 12.5, 15. , 17.5, 20. , 22.5, 25. ]),\n",
       " <BarContainer object of 10 artists>)"
      ]
     },
     "execution_count": 48,
     "metadata": {},
     "output_type": "execute_result"
    },
    {
     "data": {
      "image/png": "[encoded data removed]",
      "text/plain": [
       "<Figure size 864x144 with 1 Axes>"
      ]
     },
     "metadata": {
      "needs_background": "light"
     },
     "output_type": "display_data"
    }
   ],
   "source": [
    "fig, ax = plt.subplots(figsize=(12, 2))\n",
    "plt.hist(ds_i['fatalities'])"
   ]
  },
  {
   "cell_type": "code",
   "execution_count": 49,
   "id": "4744d560",
   "metadata": {},
   "outputs": [
    {
     "data": {
      "text/plain": [
       "(array([54.,  6.,  3.,  0.,  1.,  0.,  0.,  1.,  0.,  1.]),\n",
       " array([ 0. ,  2.5,  5. ,  7.5, 10. , 12.5, 15. , 17.5, 20. , 22.5, 25. ]),\n",
       " <BarContainer object of 10 artists>)"
      ]
     },
     "execution_count": 49,
     "metadata": {},
     "output_type": "execute_result"
    },
    {
     "data": {
      "image/png": "[encoded data removed]",
      "text/plain": [
       "<Figure size 864x216 with 1 Axes>"
      ]
     },
     "metadata": {
      "needs_background": "light"
     },
     "output_type": "display_data"
    }
   ],
   "source": [
    "fig, ax = plt.subplots(figsize=(12, 3))\n",
    "plt.hist(ds3['fatalities'])\n",
    "plt.hist(ds_i['fatalities'])"
   ]
  },
  {
   "cell_type": "code",
   "execution_count": 50,
   "id": "38c513ae",
   "metadata": {},
   "outputs": [
    {
     "data": {
      "text/plain": [
       "Ttest_indResult(statistic=-0.1653632143490673, pvalue=0.869047762161167)"
      ]
     },
     "execution_count": 50,
     "metadata": {},
     "output_type": "execute_result"
    },
    {
     "data": {
      "image/png": "[encoded data removed]",
      "text/plain": [
       "<Figure size 864x288 with 1 Axes>"
      ]
     },
     "metadata": {
      "needs_background": "light"
     },
     "output_type": "display_data"
    }
   ],
   "source": [
    "fig, ax = plt.subplots(figsize=(12, 4))\n",
    "t= np.linspace(mfm - 4*ste_mp, ifm + 4*ste_ip, num=2000)\n",
    "ax.plot(t, mp_dist.pdf(t), label=\"Mynmar\", color='red')\n",
    "ax.plot(t, ip_dist.pdf(t), label =\"Iraq\", color='blue')    \n",
    "ax.legend()\n",
    "stats.ttest_ind((ds3['fatalities']),(ds_i['fatalities']),equal_var=False)"
   ]
  },
  {
   "cell_type": "code",
   "execution_count": 51,
   "id": "3e89e05b",
   "metadata": {},
   "outputs": [
    {
     "data": {
      "text/plain": [
       "Ttest_indResult(statistic=0.24955029804563192, pvalue=0.8033028151803331)"
      ]
     },
     "execution_count": 51,
     "metadata": {},
     "output_type": "execute_result"
    },
    {
     "data": {
      "image/png": "[encoded data removed]",
      "text/plain": [
       "<Figure size 864x288 with 1 Axes>"
      ]
     },
     "metadata": {
      "needs_background": "light"
     },
     "output_type": "display_data"
    }
   ],
   "source": [
    "fig, ax = plt.subplots(figsize=(12, 4))\n",
    "t= np.linspace(sfm - 4*ste_sp, ifm + 4*ste_ip, num=2000)\n",
    "ax.plot(t, sp_dist.pdf(t), label=\"Sudan\", color='red')\n",
    "ax.plot(t, ip_dist.pdf(t), label =\"Iraq\", color='blue')    \n",
    "ax.legend()\n",
    "stats.ttest_ind((ds_s['fatalities']),(ds_i['fatalities']),equal_var=False)"
   ]
  },
  {
   "cell_type": "code",
   "execution_count": 52,
   "id": "8cff9ac2",
   "metadata": {},
   "outputs": [
    {
     "data": {
      "text/plain": [
       "(country\n",
       " Cambodia         0\n",
       " Indonesia        1\n",
       " Myanmar        370\n",
       " Philippines      0\n",
       " Thailand         0\n",
       " Vietnam          0\n",
       " Name: fatalities, dtype: int64,\n",
       " country\n",
       " Cambodia         5\n",
       " Indonesia       11\n",
       " Myanmar        214\n",
       " Philippines      2\n",
       " Thailand         1\n",
       " Vietnam          3\n",
       " Name: data_id, dtype: int64,\n",
       " country\n",
       " Cambodia        188\n",
       " Indonesia      2821\n",
       " Laos              1\n",
       " Malaysia        319\n",
       " Myanmar        4364\n",
       " Philippines     733\n",
       " Thailand       1427\n",
       " Vietnam          39\n",
       " Name: data_id, dtype: int64)"
      ]
     },
     "execution_count": 52,
     "metadata": {},
     "output_type": "execute_result"
    }
   ],
   "source": [
    "d_pr1.groupby('country')['fatalities'].sum(),d_pr1.groupby('country')['data_id'].count(),df2_pr1.groupby('country')['data_id'].count()"
   ]
  },
  {
   "cell_type": "code",
   "execution_count": 53,
   "id": "63e2b16e",
   "metadata": {},
   "outputs": [
    {
     "data": {
      "text/plain": [
       "(country\n",
       " Burundi          0\n",
       " Djibouti         0\n",
       " Ethiopia       150\n",
       " Kenya            5\n",
       " Malawi           0\n",
       " Mozambique       0\n",
       " Somalia          8\n",
       " South Sudan      0\n",
       " Uganda           4\n",
       " Name: fatalities, dtype: int64,\n",
       " country\n",
       " Burundi         1\n",
       " Djibouti        5\n",
       " Ethiopia       70\n",
       " Kenya           8\n",
       " Malawi          1\n",
       " Mozambique      3\n",
       " Somalia        22\n",
       " South Sudan     1\n",
       " Uganda         18\n",
       " Name: data_id, dtype: int64,\n",
       " country\n",
       " Burundi        108\n",
       " Djibouti        40\n",
       " Eritrea          1\n",
       " Ethiopia       351\n",
       " Kenya          285\n",
       " Madagascar      72\n",
       " Malawi         166\n",
       " Mozambique      45\n",
       " Rwanda           3\n",
       " Somalia        251\n",
       " South Sudan     66\n",
       " Tanzania        18\n",
       " Uganda         217\n",
       " Name: data_id, dtype: int64)"
      ]
     },
     "execution_count": 53,
     "metadata": {},
     "output_type": "execute_result"
    }
   ],
   "source": [
    "d_pr5.groupby('country')['fatalities'].sum(),d_pr5.groupby('country')['data_id'].count(),df2_pr5.groupby('country')['data_id'].count()"
   ]
  },
  {
   "cell_type": "code",
   "execution_count": 54,
   "id": "da361da8",
   "metadata": {},
   "outputs": [
    {
     "data": {
      "text/plain": [
       "(country\n",
       " Bahrain        1\n",
       " Iran           0\n",
       " Iraq         120\n",
       " Israel         0\n",
       " Lebanon        1\n",
       " Palestine      3\n",
       " Syria         20\n",
       " Turkey         3\n",
       " Yemen         25\n",
       " Name: fatalities, dtype: int64,\n",
       " country\n",
       " Bahrain       2\n",
       " Iran          9\n",
       " Iraq         66\n",
       " Israel        7\n",
       " Lebanon      12\n",
       " Palestine    84\n",
       " Syria        36\n",
       " Turkey        7\n",
       " Yemen        47\n",
       " Name: data_id, dtype: int64,\n",
       " country\n",
       " Bahrain                 1223\n",
       " Iran                    6798\n",
       " Iraq                    3453\n",
       " Israel                  8206\n",
       " Jordan                   442\n",
       " Kuwait                    37\n",
       " Lebanon                 6163\n",
       " Oman                      16\n",
       " Palestine                672\n",
       " Qatar                     15\n",
       " Saudi Arabia               5\n",
       " Syria                   1405\n",
       " Turkey                  4001\n",
       " United Arab Emirates       1\n",
       " Yemen                   1657\n",
       " Name: data_id, dtype: int64)"
      ]
     },
     "execution_count": 54,
     "metadata": {},
     "output_type": "execute_result"
    }
   ],
   "source": [
    "d_pr4.groupby('country')['fatalities'].sum(),d_pr4.groupby('country')['data_id'].count(),df2_pr4.groupby('country')['data_id'].count()"
   ]
  },
  {
   "cell_type": "code",
   "execution_count": 55,
   "id": "3cc5197a",
   "metadata": {},
   "outputs": [
    {
     "data": {
      "text/plain": [
       "(array([8., 0., 0., 0., 0., 0., 0., 0., 0., 1.]),\n",
       " array([  0.,  15.,  30.,  45.,  60.,  75.,  90., 105., 120., 135., 150.]),\n",
       " <BarContainer object of 10 artists>)"
      ]
     },
     "execution_count": 55,
     "metadata": {},
     "output_type": "execute_result"
    },
    {
     "data": {
      "image/png": "[encoded data removed]",
      "text/plain": [
       "<Figure size 864x216 with 1 Axes>"
      ]
     },
     "metadata": {
      "needs_background": "light"
     },
     "output_type": "display_data"
    }
   ],
   "source": [
    "fig, ax = plt.subplots(figsize=(12, 3))\n",
    "plt.hist(d_pr1.groupby('country')['fatalities'].sum())\n",
    "plt.hist(d_pr5.groupby('country')['fatalities'].sum())"
   ]
  },
  {
   "cell_type": "code",
   "execution_count": 56,
   "id": "02ede2ad",
   "metadata": {},
   "outputs": [
    {
     "data": {
      "text/plain": [
       "(array([6., 1., 1., 0., 0., 0., 0., 0., 0., 1.]),\n",
       " array([  0.,  12.,  24.,  36.,  48.,  60.,  72.,  84.,  96., 108., 120.]),\n",
       " <BarContainer object of 10 artists>)"
      ]
     },
     "execution_count": 56,
     "metadata": {},
     "output_type": "execute_result"
    },
    {
     "data": {
      "image/png": "[encoded data removed]",
      "text/plain": [
       "<Figure size 864x216 with 1 Axes>"
      ]
     },
     "metadata": {
      "needs_background": "light"
     },
     "output_type": "display_data"
    }
   ],
   "source": [
    "fig, ax = plt.subplots(figsize=(12, 3))\n",
    "plt.hist(d_pr1.groupby('country')['fatalities'].sum())\n",
    "plt.hist(d_pr4.groupby('country')['fatalities'].sum())"
   ]
  },
  {
   "cell_type": "code",
   "execution_count": 57,
   "id": "9bc9ef7b",
   "metadata": {},
   "outputs": [
    {
     "data": {
      "text/plain": [
       "(array([5., 1., 1., 1., 0., 0., 0., 0., 0., 1.]),\n",
       " array([ 1. ,  7.9, 14.8, 21.7, 28.6, 35.5, 42.4, 49.3, 56.2, 63.1, 70. ]),\n",
       " <BarContainer object of 10 artists>)"
      ]
     },
     "execution_count": 57,
     "metadata": {},
     "output_type": "execute_result"
    },
    {
     "data": {
      "image/png": "[encoded data removed]",
      "text/plain": [
       "<Figure size 864x216 with 1 Axes>"
      ]
     },
     "metadata": {
      "needs_background": "light"
     },
     "output_type": "display_data"
    }
   ],
   "source": [
    "fig, ax = plt.subplots(figsize=(12, 3))\n",
    "plt.hist(d_pr1.groupby('country')['data_id'].count())\n",
    "plt.hist(d_pr5.groupby('country')['data_id'].count())"
   ]
  },
  {
   "cell_type": "code",
   "execution_count": 58,
   "id": "b06fdf2d",
   "metadata": {},
   "outputs": [
    {
     "data": {
      "text/plain": [
       "(array([4., 1., 0., 0., 1., 1., 0., 1., 0., 1.]),\n",
       " array([ 2. , 10.2, 18.4, 26.6, 34.8, 43. , 51.2, 59.4, 67.6, 75.8, 84. ]),\n",
       " <BarContainer object of 10 artists>)"
      ]
     },
     "execution_count": 58,
     "metadata": {},
     "output_type": "execute_result"
    },
    {
     "data": {
      "image/png": "[encoded data removed]",
      "text/plain": [
       "<Figure size 864x216 with 1 Axes>"
      ]
     },
     "metadata": {
      "needs_background": "light"
     },
     "output_type": "display_data"
    }
   ],
   "source": [
    "fig, ax = plt.subplots(figsize=(12, 3))\n",
    "plt.hist(d_pr1.groupby('country')['data_id'].count())\n",
    "plt.hist(d_pr4.groupby('country')['data_id'].count())"
   ]
  },
  {
   "cell_type": "code",
   "execution_count": 59,
   "id": "300ce581",
   "metadata": {},
   "outputs": [
    {
     "data": {
      "text/plain": [
       "(array([3., 3., 1., 1., 1., 0., 1., 1., 1., 1.]),\n",
       " array([  1.,  36.,  71., 106., 141., 176., 211., 246., 281., 316., 351.]),\n",
       " <BarContainer object of 10 artists>)"
      ]
     },
     "execution_count": 59,
     "metadata": {},
     "output_type": "execute_result"
    },
    {
     "data": {
      "image/png": "[encoded data removed]",
      "text/plain": [
       "<Figure size 864x216 with 1 Axes>"
      ]
     },
     "metadata": {
      "needs_background": "light"
     },
     "output_type": "display_data"
    }
   ],
   "source": [
    "fig, ax = plt.subplots(figsize=(12, 3))\n",
    "plt.hist(df2_pr1.groupby('country')['data_id'].count())\n",
    "plt.hist(df2_pr5.groupby('country')['data_id'].count())"
   ]
  },
  {
   "cell_type": "code",
   "execution_count": 60,
   "id": "6aafe0c9",
   "metadata": {},
   "outputs": [
    {
     "data": {
      "text/plain": [
       "(array([7., 2., 1., 0., 2., 0., 0., 1., 1., 1.]),\n",
       " array([1.0000e+00, 8.2150e+02, 1.6420e+03, 2.4625e+03, 3.2830e+03,\n",
       "        4.1035e+03, 4.9240e+03, 5.7445e+03, 6.5650e+03, 7.3855e+03,\n",
       "        8.2060e+03]),\n",
       " <BarContainer object of 10 artists>)"
      ]
     },
     "execution_count": 60,
     "metadata": {},
     "output_type": "execute_result"
    },
    {
     "data": {
      "image/png": "[encoded data removed]",
      "text/plain": [
       "<Figure size 864x216 with 1 Axes>"
      ]
     },
     "metadata": {
      "needs_background": "light"
     },
     "output_type": "display_data"
    }
   ],
   "source": [
    "fig, ax = plt.subplots(figsize=(12, 3))\n",
    "plt.hist(df2_pr1.groupby('country')['data_id'].count())\n",
    "plt.hist(df2_pr4.groupby('country')['data_id'].count())"
   ]
  },
  {
   "cell_type": "code",
   "execution_count": 75,
   "id": "e9995429",
   "metadata": {},
   "outputs": [],
   "source": [
    "seaf=d_pr1.groupby('country')['fatalities'].sum()\n",
    "seaf_m=seaf/6\n",
    "ste_seaf=np.std(seaf) / np.sqrt(6)\n",
    "seaf_dist=stats.norm(loc=seaf_m, scale=ste_seaf)\n",
    "\n",
    "\n",
    "mef=d_pr4.groupby('country')['fatalities'].sum()\n",
    "mef_m=mef/9\n",
    "ste_mef=np.std(mef) / np.sqrt(9)\n",
    "mef_dist=stats.norm(loc=mef_m, scale=ste_mef)\n",
    "\n",
    "\n",
    "eaff=d_pr5.groupby('country')['fatalities'].sum()\n",
    "eaff_m=eaff/9\n",
    "ste_eaff=np.std(eaff) / np.sqrt(9)\n",
    "eaff_dist=stats.norm(loc=eaff_m, scale=ste_eaff)\n",
    "\n",
    "\n",
    "seae=d_pr1.groupby('country')['data_id'].count()\n",
    "seae_m=seae/6\n",
    "ste_seae=np.std(seae) / np.sqrt(6)\n",
    "seae_dist=stats.norm(loc=seae_m, scale=ste_seae)\n",
    "\n",
    "\n",
    "mee=d_pr4.groupby('country')['data_id'].count()\n",
    "mee_m=mee/9\n",
    "ste_mee=np.std(mee) / np.sqrt(9)\n",
    "mee_dist=stats.norm(loc=mee_m, scale=ste_mee)\n",
    "\n",
    "\n",
    "eafe=d_pr5.groupby('country')['data_id'].count()\n",
    "eafe_m=eafe/9\n",
    "ste_eafe=np.std(eafe) / np.sqrt(9)\n",
    "eafe_dist=stats.norm(loc=eafe_m, scale=ste_eafe)\n",
    "\n",
    "\n",
    "seap=df2_pr1.groupby('country')['data_id'].count()\n",
    "seap_m=seap/8\n",
    "ste_seap=np.std(seaf) / np.sqrt(8)\n",
    "seap_dist=stats.norm(loc=seap_m, scale=ste_seap)\n",
    "ste_ip,ifm\n",
    "\n",
    "mep=df2_pr4.groupby('country')['data_id'].count()\n",
    "mep_m=mep/15\n",
    "ste_mep=np.std(mep) / np.sqrt(15)\n",
    "mep_dist=stats.norm(loc=mep_m, scale=ste_mep)\n",
    "\n",
    "\n",
    "eafp=df2_pr5.groupby('country')['data_id'].count()\n",
    "eafp_m=eafp/13\n",
    "ste_eafp=np.std(eafp) / np.sqrt(13)\n",
    "eafp_dist=stats.norm(loc=eafp_m, scale=ste_eafp)\n"
   ]
  },
  {
   "cell_type": "code",
   "execution_count": 64,
   "id": "7fef3b9d",
   "metadata": {},
   "outputs": [
    {
     "data": {
      "text/plain": [
       "371"
      ]
     },
     "execution_count": 64,
     "metadata": {},
     "output_type": "execute_result"
    }
   ],
   "source": [
    "seaf=d_pr1.groupby('country')['fatalities'].sum()\n",
    "seaf.sum()\n"
   ]
  },
  {
   "cell_type": "code",
   "execution_count": null,
   "id": "9499d055",
   "metadata": {},
   "outputs": [],
   "source": [
    "fig, ax = plt.subplots(figsize=(12, 4))\n",
    "t= np.linspace(seaf_m - 4*ste_seaf, mef_m + 4*ste_mef, num=2000)\n",
    "ax.plot(t,seaf_dist.pdf, label=\"Southeast Asia\", color='red')\n",
    "ax.plot(t,mef_dist.pdf, label =\"Middle East\", color='blue')    \n",
    "ax.legend()\n",
    "stats.ttest_ind((seaf),(mef),equal_var=False)"
   ]
  },
  {
   "cell_type": "code",
   "execution_count": null,
   "id": "fab9500f",
   "metadata": {},
   "outputs": [],
   "source": [
    "fig, ax = plt.subplots(figsize=(12, 4))\n",
    "t= np.linspace(seaf_m - 4*ste_seaf, eaff_m + 4*ste_eaff, num=2000)\n",
    "ax.plot(t, seaf_dist.pdf(t), label=\"Southeast Asia\", color='red')\n",
    "ax.plot(t, eaff_dist.pdf(t), label =\"Eastern Africa\", color='blue')    \n",
    "ax.legend()\n",
    "stats.ttest_ind((seaf),(eaff),equal_var=False)"
   ]
  },
  {
   "cell_type": "code",
   "execution_count": null,
   "id": "7e337b37",
   "metadata": {},
   "outputs": [],
   "source": [
    "fig, ax = plt.subplots(figsize=(12, 4))\n",
    "t= np.linspace(seae_m - 4*ste_seae, mee_m + 4*ste_mee, num=2000)\n",
    "ax.plot(t, seae_dist.pdf(t), label=\"Southeast Asia\", color='red')\n",
    "ax.plot(t, mee_dist.pdf(t), label =\"Middle East\", color='blue')    \n",
    "ax.legend()\n",
    "stats.ttest_ind((seae),(mee),equal_var=False)"
   ]
  },
  {
   "cell_type": "code",
   "execution_count": null,
   "id": "47d51428",
   "metadata": {},
   "outputs": [],
   "source": [
    "fig, ax = plt.subplots(figsize=(12, 4))\n",
    "t= np.linspace(seae_m - 4*ste_seae, eafe_m + 4*ste_eafe, num=2000)\n",
    "ax.plot(t, seae_dist.pdf(t), label=\"Southeast Asia\", color='red')\n",
    "ax.plot(t, eafe_dist.pdf(t), label =\"Eastern Africa\", color='blue')    \n",
    "ax.legend()\n",
    "stats.ttest_ind((seae),(eafe),equal_var=False)"
   ]
  },
  {
   "cell_type": "code",
   "execution_count": null,
   "id": "1af1bb94",
   "metadata": {},
   "outputs": [],
   "source": [
    "fig, ax = plt.subplots(figsize=(12, 4))\n",
    "t= np.linspace(seap_m - 4*ste_seap, mep_m + 4*ste_mep, num=2000)\n",
    "ax.plot(t, seap_dist.pdf(t), label=\"Southeast Asia\", color='red')\n",
    "ax.plot(t, mep_dist.pdf(t), label =\"Middle East\", color='blue')    \n",
    "ax.legend()\n",
    "stats.ttest_ind((seap),(mep),equal_var=False)"
   ]
  },
  {
   "cell_type": "code",
   "execution_count": null,
   "id": "a3ee9925",
   "metadata": {},
   "outputs": [],
   "source": [
    "fig, ax = plt.subplots(figsize=(12, 4))\n",
    "t= np.linspace(seap_m - 4*ste_seap, eafp_m + 4*ste_eafp, num=2000)\n",
    "ax.plot(t, seap_dist.pdf(t), label=\"Southeast Asia\", color='red')\n",
    "ax.plot(t, eafp_dist.pdf(t), label =\"Eastern Africa\", color='blue')    \n",
    "ax.legend()\n",
    "stats.ttest_ind((seap),(eafp),equal_var=False)"
   ]
  },
  {
   "cell_type": "code",
   "execution_count": 69,
   "id": "b67226aa",
   "metadata": {},
   "outputs": [
    {
     "data": {
      "text/plain": [
       "country\n",
       "Cambodia         0\n",
       "Indonesia        1\n",
       "Myanmar        370\n",
       "Philippines      0\n",
       "Thailand         0\n",
       "Vietnam          0\n",
       "Name: fatalities, dtype: int64"
      ]
     },
     "execution_count": 69,
     "metadata": {},
     "output_type": "execute_result"
    }
   ],
   "source": []
  },
  {
   "cell_type": "code",
   "execution_count": null,
   "id": "9ebfb359",
   "metadata": {},
   "outputs": [],
   "source": []
  },
  {
   "cell_type": "code",
   "execution_count": 92,
   "id": "61544a07",
   "metadata": {},
   "outputs": [
    {
     "data": {
      "text/plain": [
       "Ttest_indResult(statistic=0.6765354776117023, pvalue=0.5263686503129079)"
      ]
     },
     "execution_count": 92,
     "metadata": {},
     "output_type": "execute_result"
    }
   ],
   "source": [
    "stats.ttest_ind((seaf),(mef),equal_var=False)"
   ]
  },
  {
   "cell_type": "code",
   "execution_count": 93,
   "id": "083507aa",
   "metadata": {},
   "outputs": [
    {
     "data": {
      "text/plain": [
       "Ttest_indResult(statistic=0.678403894968765, pvalue=0.5239929830616097)"
      ]
     },
     "execution_count": 93,
     "metadata": {},
     "output_type": "execute_result"
    }
   ],
   "source": [
    "stats.ttest_ind((seaf),(eaff),equal_var=False)"
   ]
  },
  {
   "cell_type": "code",
   "execution_count": 94,
   "id": "21627468",
   "metadata": {},
   "outputs": [
    {
     "data": {
      "text/plain": [
       "Ttest_indResult(statistic=0.2567295196075339, pvalue=0.8062202402773773)"
      ]
     },
     "execution_count": 94,
     "metadata": {},
     "output_type": "execute_result"
    }
   ],
   "source": [
    "stats.ttest_ind((seae),(mee),equal_var=False)"
   ]
  },
  {
   "cell_type": "code",
   "execution_count": 95,
   "id": "89094721",
   "metadata": {},
   "outputs": [
    {
     "data": {
      "text/plain": [
       "Ttest_indResult(statistic=0.6994698473286108, pvalue=0.5129698650284591)"
      ]
     },
     "execution_count": 95,
     "metadata": {},
     "output_type": "execute_result"
    }
   ],
   "source": [
    "stats.ttest_ind((seae),(eafe),equal_var=False)"
   ]
  },
  {
   "cell_type": "code",
   "execution_count": 96,
   "id": "839873ec",
   "metadata": {},
   "outputs": [
    {
     "data": {
      "text/plain": [
       "Ttest_indResult(statistic=-1.1373126470850563, pvalue=0.26832181338760663)"
      ]
     },
     "execution_count": 96,
     "metadata": {},
     "output_type": "execute_result"
    }
   ],
   "source": [
    "stats.ttest_ind((seap),(mep),equal_var=False)"
   ]
  },
  {
   "cell_type": "code",
   "execution_count": 97,
   "id": "da7a66fd",
   "metadata": {},
   "outputs": [
    {
     "data": {
      "text/plain": [
       "Ttest_indResult(statistic=1.9861813619150972, pvalue=0.08710638206598316)"
      ]
     },
     "execution_count": 97,
     "metadata": {},
     "output_type": "execute_result"
    }
   ],
   "source": [
    "stats.ttest_ind((seap),(eafp),equal_var=False)"
   ]
  },
  {
   "cell_type": "code",
   "execution_count": null,
   "id": "6ef24ad4",
   "metadata": {},
   "outputs": [],
   "source": []
  },
  {
   "cell_type": "code",
   "execution_count": 105,
   "id": "0ac65a20",
   "metadata": {},
   "outputs": [
    {
     "data": {
      "text/plain": [
       "(array([ 9., 70., 18., 10.,  2.,  1.,  1.,  1.,  0.,  2.]),\n",
       " array([0. , 0.9, 1.8, 2.7, 3.6, 4.5, 5.4, 6.3, 7.2, 8.1, 9. ]),\n",
       " <BarContainer object of 10 artists>)"
      ]
     },
     "execution_count": 105,
     "metadata": {},
     "output_type": "execute_result"
    },
    {
     "data": {
      "image/png": "[encoded data removed]",
      "text/plain": [
       "<Figure size 864x216 with 1 Axes>"
      ]
     },
     "metadata": {
      "needs_background": "light"
     },
     "output_type": "display_data"
    }
   ],
   "source": [
    "fig, ax = plt.subplots(figsize=(12, 3))\n",
    "plt.hist(ds3['fatalities'])\n",
    "plt.hist(ds_n['fatalities'])"
   ]
  },
  {
   "cell_type": "code",
   "execution_count": null,
   "id": "46bdc029",
   "metadata": {},
   "outputs": [],
   "source": []
  }
 ],
 "metadata": {
  "kernelspec": {
   "display_name": "Python 3",
   "language": "python",
   "name": "python3"
  },
  "language_info": {
   "codemirror_mode": {
    "name": "ipython",
    "version": 3
   },
   "file_extension": ".py",
   "mimetype": "text/x-python",
   "name": "python",
   "nbconvert_exporter": "python",
   "pygments_lexer": "ipython3",
   "version": "3.9.5"
  }
 },
 "nbformat": 4,
 "nbformat_minor": 5
}
